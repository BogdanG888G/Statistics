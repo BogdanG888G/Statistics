{
 "cells": [
  {
   "cell_type": "markdown",
   "id": "2f905493",
   "metadata": {},
   "source": [
    "# Привычки студента против Академической успеваемости"
   ]
  },
  {
   "cell_type": "code",
   "execution_count": 89,
   "id": "867bfdc5",
   "metadata": {},
   "outputs": [],
   "source": [
    "import pandas as pd\n",
    "import numpy as np\n",
    "import matplotlib.pyplot as plt\n",
    "import scipy.stats as sts\n",
    "import statsmodels.api as sm\n",
    "import plotly.express as px\n",
    "import seaborn as sns\n",
    "from scipy.stats import pearsonr, spearmanr, levene, shapiro"
   ]
  },
  {
   "cell_type": "code",
   "execution_count": 90,
   "id": "6f5d96ab",
   "metadata": {},
   "outputs": [
    {
     "data": {
      "text/html": [
       "<div>\n",
       "<style scoped>\n",
       "    .dataframe tbody tr th:only-of-type {\n",
       "        vertical-align: middle;\n",
       "    }\n",
       "\n",
       "    .dataframe tbody tr th {\n",
       "        vertical-align: top;\n",
       "    }\n",
       "\n",
       "    .dataframe thead th {\n",
       "        text-align: right;\n",
       "    }\n",
       "</style>\n",
       "<table border=\"1\" class=\"dataframe\">\n",
       "  <thead>\n",
       "    <tr style=\"text-align: right;\">\n",
       "      <th></th>\n",
       "      <th>student_id</th>\n",
       "      <th>age</th>\n",
       "      <th>gender</th>\n",
       "      <th>study_hours_per_day</th>\n",
       "      <th>social_media_hours</th>\n",
       "      <th>netflix_hours</th>\n",
       "      <th>part_time_job</th>\n",
       "      <th>attendance_percentage</th>\n",
       "      <th>sleep_hours</th>\n",
       "      <th>diet_quality</th>\n",
       "      <th>exercise_frequency</th>\n",
       "      <th>parental_education_level</th>\n",
       "      <th>internet_quality</th>\n",
       "      <th>mental_health_rating</th>\n",
       "      <th>extracurricular_participation</th>\n",
       "      <th>exam_score</th>\n",
       "    </tr>\n",
       "  </thead>\n",
       "  <tbody>\n",
       "    <tr>\n",
       "      <th>0</th>\n",
       "      <td>S1000</td>\n",
       "      <td>23</td>\n",
       "      <td>Female</td>\n",
       "      <td>0.0</td>\n",
       "      <td>1.2</td>\n",
       "      <td>1.1</td>\n",
       "      <td>No</td>\n",
       "      <td>85.0</td>\n",
       "      <td>8.0</td>\n",
       "      <td>Fair</td>\n",
       "      <td>6</td>\n",
       "      <td>Master</td>\n",
       "      <td>Average</td>\n",
       "      <td>8</td>\n",
       "      <td>Yes</td>\n",
       "      <td>56.2</td>\n",
       "    </tr>\n",
       "    <tr>\n",
       "      <th>1</th>\n",
       "      <td>S1001</td>\n",
       "      <td>20</td>\n",
       "      <td>Female</td>\n",
       "      <td>6.9</td>\n",
       "      <td>2.8</td>\n",
       "      <td>2.3</td>\n",
       "      <td>No</td>\n",
       "      <td>97.3</td>\n",
       "      <td>4.6</td>\n",
       "      <td>Good</td>\n",
       "      <td>6</td>\n",
       "      <td>High School</td>\n",
       "      <td>Average</td>\n",
       "      <td>8</td>\n",
       "      <td>No</td>\n",
       "      <td>100.0</td>\n",
       "    </tr>\n",
       "    <tr>\n",
       "      <th>2</th>\n",
       "      <td>S1002</td>\n",
       "      <td>21</td>\n",
       "      <td>Male</td>\n",
       "      <td>1.4</td>\n",
       "      <td>3.1</td>\n",
       "      <td>1.3</td>\n",
       "      <td>No</td>\n",
       "      <td>94.8</td>\n",
       "      <td>8.0</td>\n",
       "      <td>Poor</td>\n",
       "      <td>1</td>\n",
       "      <td>High School</td>\n",
       "      <td>Poor</td>\n",
       "      <td>1</td>\n",
       "      <td>No</td>\n",
       "      <td>34.3</td>\n",
       "    </tr>\n",
       "    <tr>\n",
       "      <th>3</th>\n",
       "      <td>S1003</td>\n",
       "      <td>23</td>\n",
       "      <td>Female</td>\n",
       "      <td>1.0</td>\n",
       "      <td>3.9</td>\n",
       "      <td>1.0</td>\n",
       "      <td>No</td>\n",
       "      <td>71.0</td>\n",
       "      <td>9.2</td>\n",
       "      <td>Poor</td>\n",
       "      <td>4</td>\n",
       "      <td>Master</td>\n",
       "      <td>Good</td>\n",
       "      <td>1</td>\n",
       "      <td>Yes</td>\n",
       "      <td>26.8</td>\n",
       "    </tr>\n",
       "    <tr>\n",
       "      <th>4</th>\n",
       "      <td>S1004</td>\n",
       "      <td>19</td>\n",
       "      <td>Female</td>\n",
       "      <td>5.0</td>\n",
       "      <td>4.4</td>\n",
       "      <td>0.5</td>\n",
       "      <td>No</td>\n",
       "      <td>90.9</td>\n",
       "      <td>4.9</td>\n",
       "      <td>Fair</td>\n",
       "      <td>3</td>\n",
       "      <td>Master</td>\n",
       "      <td>Good</td>\n",
       "      <td>1</td>\n",
       "      <td>No</td>\n",
       "      <td>66.4</td>\n",
       "    </tr>\n",
       "    <tr>\n",
       "      <th>...</th>\n",
       "      <td>...</td>\n",
       "      <td>...</td>\n",
       "      <td>...</td>\n",
       "      <td>...</td>\n",
       "      <td>...</td>\n",
       "      <td>...</td>\n",
       "      <td>...</td>\n",
       "      <td>...</td>\n",
       "      <td>...</td>\n",
       "      <td>...</td>\n",
       "      <td>...</td>\n",
       "      <td>...</td>\n",
       "      <td>...</td>\n",
       "      <td>...</td>\n",
       "      <td>...</td>\n",
       "      <td>...</td>\n",
       "    </tr>\n",
       "    <tr>\n",
       "      <th>995</th>\n",
       "      <td>S1995</td>\n",
       "      <td>21</td>\n",
       "      <td>Female</td>\n",
       "      <td>2.6</td>\n",
       "      <td>0.5</td>\n",
       "      <td>1.6</td>\n",
       "      <td>No</td>\n",
       "      <td>77.0</td>\n",
       "      <td>7.5</td>\n",
       "      <td>Fair</td>\n",
       "      <td>2</td>\n",
       "      <td>High School</td>\n",
       "      <td>Good</td>\n",
       "      <td>6</td>\n",
       "      <td>Yes</td>\n",
       "      <td>76.1</td>\n",
       "    </tr>\n",
       "    <tr>\n",
       "      <th>996</th>\n",
       "      <td>S1996</td>\n",
       "      <td>17</td>\n",
       "      <td>Female</td>\n",
       "      <td>2.9</td>\n",
       "      <td>1.0</td>\n",
       "      <td>2.4</td>\n",
       "      <td>Yes</td>\n",
       "      <td>86.0</td>\n",
       "      <td>6.8</td>\n",
       "      <td>Poor</td>\n",
       "      <td>1</td>\n",
       "      <td>High School</td>\n",
       "      <td>Average</td>\n",
       "      <td>6</td>\n",
       "      <td>Yes</td>\n",
       "      <td>65.9</td>\n",
       "    </tr>\n",
       "    <tr>\n",
       "      <th>997</th>\n",
       "      <td>S1997</td>\n",
       "      <td>20</td>\n",
       "      <td>Male</td>\n",
       "      <td>3.0</td>\n",
       "      <td>2.6</td>\n",
       "      <td>1.3</td>\n",
       "      <td>No</td>\n",
       "      <td>61.9</td>\n",
       "      <td>6.5</td>\n",
       "      <td>Good</td>\n",
       "      <td>5</td>\n",
       "      <td>Bachelor</td>\n",
       "      <td>Good</td>\n",
       "      <td>9</td>\n",
       "      <td>Yes</td>\n",
       "      <td>64.4</td>\n",
       "    </tr>\n",
       "    <tr>\n",
       "      <th>998</th>\n",
       "      <td>S1998</td>\n",
       "      <td>24</td>\n",
       "      <td>Male</td>\n",
       "      <td>5.4</td>\n",
       "      <td>4.1</td>\n",
       "      <td>1.1</td>\n",
       "      <td>Yes</td>\n",
       "      <td>100.0</td>\n",
       "      <td>7.6</td>\n",
       "      <td>Fair</td>\n",
       "      <td>0</td>\n",
       "      <td>Bachelor</td>\n",
       "      <td>Average</td>\n",
       "      <td>1</td>\n",
       "      <td>No</td>\n",
       "      <td>69.7</td>\n",
       "    </tr>\n",
       "    <tr>\n",
       "      <th>999</th>\n",
       "      <td>S1999</td>\n",
       "      <td>19</td>\n",
       "      <td>Female</td>\n",
       "      <td>4.3</td>\n",
       "      <td>2.9</td>\n",
       "      <td>1.9</td>\n",
       "      <td>No</td>\n",
       "      <td>89.4</td>\n",
       "      <td>7.1</td>\n",
       "      <td>Good</td>\n",
       "      <td>2</td>\n",
       "      <td>Bachelor</td>\n",
       "      <td>Average</td>\n",
       "      <td>8</td>\n",
       "      <td>No</td>\n",
       "      <td>74.9</td>\n",
       "    </tr>\n",
       "  </tbody>\n",
       "</table>\n",
       "<p>1000 rows × 16 columns</p>\n",
       "</div>"
      ],
      "text/plain": [
       "    student_id  age  gender  study_hours_per_day  social_media_hours  \\\n",
       "0        S1000   23  Female                  0.0                 1.2   \n",
       "1        S1001   20  Female                  6.9                 2.8   \n",
       "2        S1002   21    Male                  1.4                 3.1   \n",
       "3        S1003   23  Female                  1.0                 3.9   \n",
       "4        S1004   19  Female                  5.0                 4.4   \n",
       "..         ...  ...     ...                  ...                 ...   \n",
       "995      S1995   21  Female                  2.6                 0.5   \n",
       "996      S1996   17  Female                  2.9                 1.0   \n",
       "997      S1997   20    Male                  3.0                 2.6   \n",
       "998      S1998   24    Male                  5.4                 4.1   \n",
       "999      S1999   19  Female                  4.3                 2.9   \n",
       "\n",
       "     netflix_hours part_time_job  attendance_percentage  sleep_hours  \\\n",
       "0              1.1            No                   85.0          8.0   \n",
       "1              2.3            No                   97.3          4.6   \n",
       "2              1.3            No                   94.8          8.0   \n",
       "3              1.0            No                   71.0          9.2   \n",
       "4              0.5            No                   90.9          4.9   \n",
       "..             ...           ...                    ...          ...   \n",
       "995            1.6            No                   77.0          7.5   \n",
       "996            2.4           Yes                   86.0          6.8   \n",
       "997            1.3            No                   61.9          6.5   \n",
       "998            1.1           Yes                  100.0          7.6   \n",
       "999            1.9            No                   89.4          7.1   \n",
       "\n",
       "    diet_quality  exercise_frequency parental_education_level  \\\n",
       "0           Fair                   6                   Master   \n",
       "1           Good                   6              High School   \n",
       "2           Poor                   1              High School   \n",
       "3           Poor                   4                   Master   \n",
       "4           Fair                   3                   Master   \n",
       "..           ...                 ...                      ...   \n",
       "995         Fair                   2              High School   \n",
       "996         Poor                   1              High School   \n",
       "997         Good                   5                 Bachelor   \n",
       "998         Fair                   0                 Bachelor   \n",
       "999         Good                   2                 Bachelor   \n",
       "\n",
       "    internet_quality  mental_health_rating extracurricular_participation  \\\n",
       "0            Average                     8                           Yes   \n",
       "1            Average                     8                            No   \n",
       "2               Poor                     1                            No   \n",
       "3               Good                     1                           Yes   \n",
       "4               Good                     1                            No   \n",
       "..               ...                   ...                           ...   \n",
       "995             Good                     6                           Yes   \n",
       "996          Average                     6                           Yes   \n",
       "997             Good                     9                           Yes   \n",
       "998          Average                     1                            No   \n",
       "999          Average                     8                            No   \n",
       "\n",
       "     exam_score  \n",
       "0          56.2  \n",
       "1         100.0  \n",
       "2          34.3  \n",
       "3          26.8  \n",
       "4          66.4  \n",
       "..          ...  \n",
       "995        76.1  \n",
       "996        65.9  \n",
       "997        64.4  \n",
       "998        69.7  \n",
       "999        74.9  \n",
       "\n",
       "[1000 rows x 16 columns]"
      ]
     },
     "execution_count": 90,
     "metadata": {},
     "output_type": "execute_result"
    }
   ],
   "source": [
    "df = pd.read_csv(\"student_habits_performance.csv\")\n",
    "df"
   ]
  },
  {
   "cell_type": "markdown",
   "id": "60c03c14",
   "metadata": {},
   "source": [
    "## Общая картина студента"
   ]
  },
  {
   "cell_type": "code",
   "execution_count": 91,
   "id": "c7605af4",
   "metadata": {},
   "outputs": [
    {
     "name": "stdout",
     "output_type": "stream",
     "text": [
      "   gender  Количество\n",
      "0  Female         481\n",
      "1    Male         477\n",
      "2   Other          42\n"
     ]
    },
    {
     "data": {
      "application/vnd.plotly.v1+json": {
       "config": {
        "plotlyServerURL": "https://plotly.com"
       },
       "data": [
        {
         "hovertemplate": "gender=%{x}<br>Количество=%{y}<extra></extra>",
         "legendgroup": "",
         "marker": {
          "color": "#636efa",
          "pattern": {
           "shape": ""
          }
         },
         "name": "",
         "orientation": "v",
         "showlegend": false,
         "textposition": "auto",
         "texttemplate": "%{y}",
         "type": "bar",
         "x": [
          "Female",
          "Male",
          "Other"
         ],
         "xaxis": "x",
         "y": {
          "bdata": "4QHdASoA",
          "dtype": "i2"
         },
         "yaxis": "y"
        }
       ],
       "layout": {
        "barmode": "relative",
        "legend": {
         "tracegroupgap": 0
        },
        "margin": {
         "t": 60
        },
        "template": {
         "data": {
          "bar": [
           {
            "error_x": {
             "color": "#2a3f5f"
            },
            "error_y": {
             "color": "#2a3f5f"
            },
            "marker": {
             "line": {
              "color": "#E5ECF6",
              "width": 0.5
             },
             "pattern": {
              "fillmode": "overlay",
              "size": 10,
              "solidity": 0.2
             }
            },
            "type": "bar"
           }
          ],
          "barpolar": [
           {
            "marker": {
             "line": {
              "color": "#E5ECF6",
              "width": 0.5
             },
             "pattern": {
              "fillmode": "overlay",
              "size": 10,
              "solidity": 0.2
             }
            },
            "type": "barpolar"
           }
          ],
          "carpet": [
           {
            "aaxis": {
             "endlinecolor": "#2a3f5f",
             "gridcolor": "white",
             "linecolor": "white",
             "minorgridcolor": "white",
             "startlinecolor": "#2a3f5f"
            },
            "baxis": {
             "endlinecolor": "#2a3f5f",
             "gridcolor": "white",
             "linecolor": "white",
             "minorgridcolor": "white",
             "startlinecolor": "#2a3f5f"
            },
            "type": "carpet"
           }
          ],
          "choropleth": [
           {
            "colorbar": {
             "outlinewidth": 0,
             "ticks": ""
            },
            "type": "choropleth"
           }
          ],
          "contour": [
           {
            "colorbar": {
             "outlinewidth": 0,
             "ticks": ""
            },
            "colorscale": [
             [
              0,
              "#0d0887"
             ],
             [
              0.1111111111111111,
              "#46039f"
             ],
             [
              0.2222222222222222,
              "#7201a8"
             ],
             [
              0.3333333333333333,
              "#9c179e"
             ],
             [
              0.4444444444444444,
              "#bd3786"
             ],
             [
              0.5555555555555556,
              "#d8576b"
             ],
             [
              0.6666666666666666,
              "#ed7953"
             ],
             [
              0.7777777777777778,
              "#fb9f3a"
             ],
             [
              0.8888888888888888,
              "#fdca26"
             ],
             [
              1,
              "#f0f921"
             ]
            ],
            "type": "contour"
           }
          ],
          "contourcarpet": [
           {
            "colorbar": {
             "outlinewidth": 0,
             "ticks": ""
            },
            "type": "contourcarpet"
           }
          ],
          "heatmap": [
           {
            "colorbar": {
             "outlinewidth": 0,
             "ticks": ""
            },
            "colorscale": [
             [
              0,
              "#0d0887"
             ],
             [
              0.1111111111111111,
              "#46039f"
             ],
             [
              0.2222222222222222,
              "#7201a8"
             ],
             [
              0.3333333333333333,
              "#9c179e"
             ],
             [
              0.4444444444444444,
              "#bd3786"
             ],
             [
              0.5555555555555556,
              "#d8576b"
             ],
             [
              0.6666666666666666,
              "#ed7953"
             ],
             [
              0.7777777777777778,
              "#fb9f3a"
             ],
             [
              0.8888888888888888,
              "#fdca26"
             ],
             [
              1,
              "#f0f921"
             ]
            ],
            "type": "heatmap"
           }
          ],
          "histogram": [
           {
            "marker": {
             "pattern": {
              "fillmode": "overlay",
              "size": 10,
              "solidity": 0.2
             }
            },
            "type": "histogram"
           }
          ],
          "histogram2d": [
           {
            "colorbar": {
             "outlinewidth": 0,
             "ticks": ""
            },
            "colorscale": [
             [
              0,
              "#0d0887"
             ],
             [
              0.1111111111111111,
              "#46039f"
             ],
             [
              0.2222222222222222,
              "#7201a8"
             ],
             [
              0.3333333333333333,
              "#9c179e"
             ],
             [
              0.4444444444444444,
              "#bd3786"
             ],
             [
              0.5555555555555556,
              "#d8576b"
             ],
             [
              0.6666666666666666,
              "#ed7953"
             ],
             [
              0.7777777777777778,
              "#fb9f3a"
             ],
             [
              0.8888888888888888,
              "#fdca26"
             ],
             [
              1,
              "#f0f921"
             ]
            ],
            "type": "histogram2d"
           }
          ],
          "histogram2dcontour": [
           {
            "colorbar": {
             "outlinewidth": 0,
             "ticks": ""
            },
            "colorscale": [
             [
              0,
              "#0d0887"
             ],
             [
              0.1111111111111111,
              "#46039f"
             ],
             [
              0.2222222222222222,
              "#7201a8"
             ],
             [
              0.3333333333333333,
              "#9c179e"
             ],
             [
              0.4444444444444444,
              "#bd3786"
             ],
             [
              0.5555555555555556,
              "#d8576b"
             ],
             [
              0.6666666666666666,
              "#ed7953"
             ],
             [
              0.7777777777777778,
              "#fb9f3a"
             ],
             [
              0.8888888888888888,
              "#fdca26"
             ],
             [
              1,
              "#f0f921"
             ]
            ],
            "type": "histogram2dcontour"
           }
          ],
          "mesh3d": [
           {
            "colorbar": {
             "outlinewidth": 0,
             "ticks": ""
            },
            "type": "mesh3d"
           }
          ],
          "parcoords": [
           {
            "line": {
             "colorbar": {
              "outlinewidth": 0,
              "ticks": ""
             }
            },
            "type": "parcoords"
           }
          ],
          "pie": [
           {
            "automargin": true,
            "type": "pie"
           }
          ],
          "scatter": [
           {
            "fillpattern": {
             "fillmode": "overlay",
             "size": 10,
             "solidity": 0.2
            },
            "type": "scatter"
           }
          ],
          "scatter3d": [
           {
            "line": {
             "colorbar": {
              "outlinewidth": 0,
              "ticks": ""
             }
            },
            "marker": {
             "colorbar": {
              "outlinewidth": 0,
              "ticks": ""
             }
            },
            "type": "scatter3d"
           }
          ],
          "scattercarpet": [
           {
            "marker": {
             "colorbar": {
              "outlinewidth": 0,
              "ticks": ""
             }
            },
            "type": "scattercarpet"
           }
          ],
          "scattergeo": [
           {
            "marker": {
             "colorbar": {
              "outlinewidth": 0,
              "ticks": ""
             }
            },
            "type": "scattergeo"
           }
          ],
          "scattergl": [
           {
            "marker": {
             "colorbar": {
              "outlinewidth": 0,
              "ticks": ""
             }
            },
            "type": "scattergl"
           }
          ],
          "scattermap": [
           {
            "marker": {
             "colorbar": {
              "outlinewidth": 0,
              "ticks": ""
             }
            },
            "type": "scattermap"
           }
          ],
          "scattermapbox": [
           {
            "marker": {
             "colorbar": {
              "outlinewidth": 0,
              "ticks": ""
             }
            },
            "type": "scattermapbox"
           }
          ],
          "scatterpolar": [
           {
            "marker": {
             "colorbar": {
              "outlinewidth": 0,
              "ticks": ""
             }
            },
            "type": "scatterpolar"
           }
          ],
          "scatterpolargl": [
           {
            "marker": {
             "colorbar": {
              "outlinewidth": 0,
              "ticks": ""
             }
            },
            "type": "scatterpolargl"
           }
          ],
          "scatterternary": [
           {
            "marker": {
             "colorbar": {
              "outlinewidth": 0,
              "ticks": ""
             }
            },
            "type": "scatterternary"
           }
          ],
          "surface": [
           {
            "colorbar": {
             "outlinewidth": 0,
             "ticks": ""
            },
            "colorscale": [
             [
              0,
              "#0d0887"
             ],
             [
              0.1111111111111111,
              "#46039f"
             ],
             [
              0.2222222222222222,
              "#7201a8"
             ],
             [
              0.3333333333333333,
              "#9c179e"
             ],
             [
              0.4444444444444444,
              "#bd3786"
             ],
             [
              0.5555555555555556,
              "#d8576b"
             ],
             [
              0.6666666666666666,
              "#ed7953"
             ],
             [
              0.7777777777777778,
              "#fb9f3a"
             ],
             [
              0.8888888888888888,
              "#fdca26"
             ],
             [
              1,
              "#f0f921"
             ]
            ],
            "type": "surface"
           }
          ],
          "table": [
           {
            "cells": {
             "fill": {
              "color": "#EBF0F8"
             },
             "line": {
              "color": "white"
             }
            },
            "header": {
             "fill": {
              "color": "#C8D4E3"
             },
             "line": {
              "color": "white"
             }
            },
            "type": "table"
           }
          ]
         },
         "layout": {
          "annotationdefaults": {
           "arrowcolor": "#2a3f5f",
           "arrowhead": 0,
           "arrowwidth": 1
          },
          "autotypenumbers": "strict",
          "coloraxis": {
           "colorbar": {
            "outlinewidth": 0,
            "ticks": ""
           }
          },
          "colorscale": {
           "diverging": [
            [
             0,
             "#8e0152"
            ],
            [
             0.1,
             "#c51b7d"
            ],
            [
             0.2,
             "#de77ae"
            ],
            [
             0.3,
             "#f1b6da"
            ],
            [
             0.4,
             "#fde0ef"
            ],
            [
             0.5,
             "#f7f7f7"
            ],
            [
             0.6,
             "#e6f5d0"
            ],
            [
             0.7,
             "#b8e186"
            ],
            [
             0.8,
             "#7fbc41"
            ],
            [
             0.9,
             "#4d9221"
            ],
            [
             1,
             "#276419"
            ]
           ],
           "sequential": [
            [
             0,
             "#0d0887"
            ],
            [
             0.1111111111111111,
             "#46039f"
            ],
            [
             0.2222222222222222,
             "#7201a8"
            ],
            [
             0.3333333333333333,
             "#9c179e"
            ],
            [
             0.4444444444444444,
             "#bd3786"
            ],
            [
             0.5555555555555556,
             "#d8576b"
            ],
            [
             0.6666666666666666,
             "#ed7953"
            ],
            [
             0.7777777777777778,
             "#fb9f3a"
            ],
            [
             0.8888888888888888,
             "#fdca26"
            ],
            [
             1,
             "#f0f921"
            ]
           ],
           "sequentialminus": [
            [
             0,
             "#0d0887"
            ],
            [
             0.1111111111111111,
             "#46039f"
            ],
            [
             0.2222222222222222,
             "#7201a8"
            ],
            [
             0.3333333333333333,
             "#9c179e"
            ],
            [
             0.4444444444444444,
             "#bd3786"
            ],
            [
             0.5555555555555556,
             "#d8576b"
            ],
            [
             0.6666666666666666,
             "#ed7953"
            ],
            [
             0.7777777777777778,
             "#fb9f3a"
            ],
            [
             0.8888888888888888,
             "#fdca26"
            ],
            [
             1,
             "#f0f921"
            ]
           ]
          },
          "colorway": [
           "#636efa",
           "#EF553B",
           "#00cc96",
           "#ab63fa",
           "#FFA15A",
           "#19d3f3",
           "#FF6692",
           "#B6E880",
           "#FF97FF",
           "#FECB52"
          ],
          "font": {
           "color": "#2a3f5f"
          },
          "geo": {
           "bgcolor": "white",
           "lakecolor": "white",
           "landcolor": "#E5ECF6",
           "showlakes": true,
           "showland": true,
           "subunitcolor": "white"
          },
          "hoverlabel": {
           "align": "left"
          },
          "hovermode": "closest",
          "mapbox": {
           "style": "light"
          },
          "paper_bgcolor": "white",
          "plot_bgcolor": "#E5ECF6",
          "polar": {
           "angularaxis": {
            "gridcolor": "white",
            "linecolor": "white",
            "ticks": ""
           },
           "bgcolor": "#E5ECF6",
           "radialaxis": {
            "gridcolor": "white",
            "linecolor": "white",
            "ticks": ""
           }
          },
          "scene": {
           "xaxis": {
            "backgroundcolor": "#E5ECF6",
            "gridcolor": "white",
            "gridwidth": 2,
            "linecolor": "white",
            "showbackground": true,
            "ticks": "",
            "zerolinecolor": "white"
           },
           "yaxis": {
            "backgroundcolor": "#E5ECF6",
            "gridcolor": "white",
            "gridwidth": 2,
            "linecolor": "white",
            "showbackground": true,
            "ticks": "",
            "zerolinecolor": "white"
           },
           "zaxis": {
            "backgroundcolor": "#E5ECF6",
            "gridcolor": "white",
            "gridwidth": 2,
            "linecolor": "white",
            "showbackground": true,
            "ticks": "",
            "zerolinecolor": "white"
           }
          },
          "shapedefaults": {
           "line": {
            "color": "#2a3f5f"
           }
          },
          "ternary": {
           "aaxis": {
            "gridcolor": "white",
            "linecolor": "white",
            "ticks": ""
           },
           "baxis": {
            "gridcolor": "white",
            "linecolor": "white",
            "ticks": ""
           },
           "bgcolor": "#E5ECF6",
           "caxis": {
            "gridcolor": "white",
            "linecolor": "white",
            "ticks": ""
           }
          },
          "title": {
           "x": 0.05
          },
          "xaxis": {
           "automargin": true,
           "gridcolor": "white",
           "linecolor": "white",
           "ticks": "",
           "title": {
            "standoff": 15
           },
           "zerolinecolor": "white",
           "zerolinewidth": 2
          },
          "yaxis": {
           "automargin": true,
           "gridcolor": "white",
           "linecolor": "white",
           "ticks": "",
           "title": {
            "standoff": 15
           },
           "zerolinecolor": "white",
           "zerolinewidth": 2
          }
         }
        },
        "title": {
         "text": "Распределение студентов по полу",
         "x": 0.5
        },
        "xaxis": {
         "anchor": "y",
         "domain": [
          0,
          1
         ],
         "title": {
          "text": "Пол студента"
         }
        },
        "yaxis": {
         "anchor": "x",
         "domain": [
          0,
          1
         ],
         "title": {
          "text": "Количество"
         }
        }
       }
      }
     },
     "metadata": {},
     "output_type": "display_data"
    }
   ],
   "source": [
    "df_group_genders = df.groupby('gender').size().reset_index().rename(columns={0: 'Количество'})\n",
    "print(df_group_genders)\n",
    "fig1 = px.bar(df_group_genders, x = 'gender', y = 'Количество', labels='Количество', text_auto = True)\n",
    "fig1.update_layout(title={'text': 'Распределение студентов по полу', 'x': 0.5},\n",
    "                    xaxis_title = 'Пол студента')"
   ]
  },
  {
   "cell_type": "code",
   "execution_count": 92,
   "id": "bbc000f6",
   "metadata": {},
   "outputs": [
    {
     "data": {
      "application/vnd.plotly.v1+json": {
       "config": {
        "plotlyServerURL": "https://plotly.com"
       },
       "data": [
        {
         "hovertemplate": "age=%{x}<br>Количество=%{y}<extra></extra>",
         "legendgroup": "",
         "marker": {
          "color": "#636efa",
          "pattern": {
           "shape": ""
          }
         },
         "name": "",
         "orientation": "v",
         "showlegend": false,
         "textposition": "auto",
         "texttemplate": "%{y}",
         "type": "bar",
         "x": {
          "bdata": "ERITFBUWFxg=",
          "dtype": "i1"
         },
         "xaxis": "x",
         "y": {
          "bdata": "hQB1AHEAkgB9AHEAdwCGAA==",
          "dtype": "i2"
         },
         "yaxis": "y"
        }
       ],
       "layout": {
        "barmode": "relative",
        "legend": {
         "tracegroupgap": 0
        },
        "margin": {
         "t": 60
        },
        "template": {
         "data": {
          "bar": [
           {
            "error_x": {
             "color": "#2a3f5f"
            },
            "error_y": {
             "color": "#2a3f5f"
            },
            "marker": {
             "line": {
              "color": "#E5ECF6",
              "width": 0.5
             },
             "pattern": {
              "fillmode": "overlay",
              "size": 10,
              "solidity": 0.2
             }
            },
            "type": "bar"
           }
          ],
          "barpolar": [
           {
            "marker": {
             "line": {
              "color": "#E5ECF6",
              "width": 0.5
             },
             "pattern": {
              "fillmode": "overlay",
              "size": 10,
              "solidity": 0.2
             }
            },
            "type": "barpolar"
           }
          ],
          "carpet": [
           {
            "aaxis": {
             "endlinecolor": "#2a3f5f",
             "gridcolor": "white",
             "linecolor": "white",
             "minorgridcolor": "white",
             "startlinecolor": "#2a3f5f"
            },
            "baxis": {
             "endlinecolor": "#2a3f5f",
             "gridcolor": "white",
             "linecolor": "white",
             "minorgridcolor": "white",
             "startlinecolor": "#2a3f5f"
            },
            "type": "carpet"
           }
          ],
          "choropleth": [
           {
            "colorbar": {
             "outlinewidth": 0,
             "ticks": ""
            },
            "type": "choropleth"
           }
          ],
          "contour": [
           {
            "colorbar": {
             "outlinewidth": 0,
             "ticks": ""
            },
            "colorscale": [
             [
              0,
              "#0d0887"
             ],
             [
              0.1111111111111111,
              "#46039f"
             ],
             [
              0.2222222222222222,
              "#7201a8"
             ],
             [
              0.3333333333333333,
              "#9c179e"
             ],
             [
              0.4444444444444444,
              "#bd3786"
             ],
             [
              0.5555555555555556,
              "#d8576b"
             ],
             [
              0.6666666666666666,
              "#ed7953"
             ],
             [
              0.7777777777777778,
              "#fb9f3a"
             ],
             [
              0.8888888888888888,
              "#fdca26"
             ],
             [
              1,
              "#f0f921"
             ]
            ],
            "type": "contour"
           }
          ],
          "contourcarpet": [
           {
            "colorbar": {
             "outlinewidth": 0,
             "ticks": ""
            },
            "type": "contourcarpet"
           }
          ],
          "heatmap": [
           {
            "colorbar": {
             "outlinewidth": 0,
             "ticks": ""
            },
            "colorscale": [
             [
              0,
              "#0d0887"
             ],
             [
              0.1111111111111111,
              "#46039f"
             ],
             [
              0.2222222222222222,
              "#7201a8"
             ],
             [
              0.3333333333333333,
              "#9c179e"
             ],
             [
              0.4444444444444444,
              "#bd3786"
             ],
             [
              0.5555555555555556,
              "#d8576b"
             ],
             [
              0.6666666666666666,
              "#ed7953"
             ],
             [
              0.7777777777777778,
              "#fb9f3a"
             ],
             [
              0.8888888888888888,
              "#fdca26"
             ],
             [
              1,
              "#f0f921"
             ]
            ],
            "type": "heatmap"
           }
          ],
          "histogram": [
           {
            "marker": {
             "pattern": {
              "fillmode": "overlay",
              "size": 10,
              "solidity": 0.2
             }
            },
            "type": "histogram"
           }
          ],
          "histogram2d": [
           {
            "colorbar": {
             "outlinewidth": 0,
             "ticks": ""
            },
            "colorscale": [
             [
              0,
              "#0d0887"
             ],
             [
              0.1111111111111111,
              "#46039f"
             ],
             [
              0.2222222222222222,
              "#7201a8"
             ],
             [
              0.3333333333333333,
              "#9c179e"
             ],
             [
              0.4444444444444444,
              "#bd3786"
             ],
             [
              0.5555555555555556,
              "#d8576b"
             ],
             [
              0.6666666666666666,
              "#ed7953"
             ],
             [
              0.7777777777777778,
              "#fb9f3a"
             ],
             [
              0.8888888888888888,
              "#fdca26"
             ],
             [
              1,
              "#f0f921"
             ]
            ],
            "type": "histogram2d"
           }
          ],
          "histogram2dcontour": [
           {
            "colorbar": {
             "outlinewidth": 0,
             "ticks": ""
            },
            "colorscale": [
             [
              0,
              "#0d0887"
             ],
             [
              0.1111111111111111,
              "#46039f"
             ],
             [
              0.2222222222222222,
              "#7201a8"
             ],
             [
              0.3333333333333333,
              "#9c179e"
             ],
             [
              0.4444444444444444,
              "#bd3786"
             ],
             [
              0.5555555555555556,
              "#d8576b"
             ],
             [
              0.6666666666666666,
              "#ed7953"
             ],
             [
              0.7777777777777778,
              "#fb9f3a"
             ],
             [
              0.8888888888888888,
              "#fdca26"
             ],
             [
              1,
              "#f0f921"
             ]
            ],
            "type": "histogram2dcontour"
           }
          ],
          "mesh3d": [
           {
            "colorbar": {
             "outlinewidth": 0,
             "ticks": ""
            },
            "type": "mesh3d"
           }
          ],
          "parcoords": [
           {
            "line": {
             "colorbar": {
              "outlinewidth": 0,
              "ticks": ""
             }
            },
            "type": "parcoords"
           }
          ],
          "pie": [
           {
            "automargin": true,
            "type": "pie"
           }
          ],
          "scatter": [
           {
            "fillpattern": {
             "fillmode": "overlay",
             "size": 10,
             "solidity": 0.2
            },
            "type": "scatter"
           }
          ],
          "scatter3d": [
           {
            "line": {
             "colorbar": {
              "outlinewidth": 0,
              "ticks": ""
             }
            },
            "marker": {
             "colorbar": {
              "outlinewidth": 0,
              "ticks": ""
             }
            },
            "type": "scatter3d"
           }
          ],
          "scattercarpet": [
           {
            "marker": {
             "colorbar": {
              "outlinewidth": 0,
              "ticks": ""
             }
            },
            "type": "scattercarpet"
           }
          ],
          "scattergeo": [
           {
            "marker": {
             "colorbar": {
              "outlinewidth": 0,
              "ticks": ""
             }
            },
            "type": "scattergeo"
           }
          ],
          "scattergl": [
           {
            "marker": {
             "colorbar": {
              "outlinewidth": 0,
              "ticks": ""
             }
            },
            "type": "scattergl"
           }
          ],
          "scattermap": [
           {
            "marker": {
             "colorbar": {
              "outlinewidth": 0,
              "ticks": ""
             }
            },
            "type": "scattermap"
           }
          ],
          "scattermapbox": [
           {
            "marker": {
             "colorbar": {
              "outlinewidth": 0,
              "ticks": ""
             }
            },
            "type": "scattermapbox"
           }
          ],
          "scatterpolar": [
           {
            "marker": {
             "colorbar": {
              "outlinewidth": 0,
              "ticks": ""
             }
            },
            "type": "scatterpolar"
           }
          ],
          "scatterpolargl": [
           {
            "marker": {
             "colorbar": {
              "outlinewidth": 0,
              "ticks": ""
             }
            },
            "type": "scatterpolargl"
           }
          ],
          "scatterternary": [
           {
            "marker": {
             "colorbar": {
              "outlinewidth": 0,
              "ticks": ""
             }
            },
            "type": "scatterternary"
           }
          ],
          "surface": [
           {
            "colorbar": {
             "outlinewidth": 0,
             "ticks": ""
            },
            "colorscale": [
             [
              0,
              "#0d0887"
             ],
             [
              0.1111111111111111,
              "#46039f"
             ],
             [
              0.2222222222222222,
              "#7201a8"
             ],
             [
              0.3333333333333333,
              "#9c179e"
             ],
             [
              0.4444444444444444,
              "#bd3786"
             ],
             [
              0.5555555555555556,
              "#d8576b"
             ],
             [
              0.6666666666666666,
              "#ed7953"
             ],
             [
              0.7777777777777778,
              "#fb9f3a"
             ],
             [
              0.8888888888888888,
              "#fdca26"
             ],
             [
              1,
              "#f0f921"
             ]
            ],
            "type": "surface"
           }
          ],
          "table": [
           {
            "cells": {
             "fill": {
              "color": "#EBF0F8"
             },
             "line": {
              "color": "white"
             }
            },
            "header": {
             "fill": {
              "color": "#C8D4E3"
             },
             "line": {
              "color": "white"
             }
            },
            "type": "table"
           }
          ]
         },
         "layout": {
          "annotationdefaults": {
           "arrowcolor": "#2a3f5f",
           "arrowhead": 0,
           "arrowwidth": 1
          },
          "autotypenumbers": "strict",
          "coloraxis": {
           "colorbar": {
            "outlinewidth": 0,
            "ticks": ""
           }
          },
          "colorscale": {
           "diverging": [
            [
             0,
             "#8e0152"
            ],
            [
             0.1,
             "#c51b7d"
            ],
            [
             0.2,
             "#de77ae"
            ],
            [
             0.3,
             "#f1b6da"
            ],
            [
             0.4,
             "#fde0ef"
            ],
            [
             0.5,
             "#f7f7f7"
            ],
            [
             0.6,
             "#e6f5d0"
            ],
            [
             0.7,
             "#b8e186"
            ],
            [
             0.8,
             "#7fbc41"
            ],
            [
             0.9,
             "#4d9221"
            ],
            [
             1,
             "#276419"
            ]
           ],
           "sequential": [
            [
             0,
             "#0d0887"
            ],
            [
             0.1111111111111111,
             "#46039f"
            ],
            [
             0.2222222222222222,
             "#7201a8"
            ],
            [
             0.3333333333333333,
             "#9c179e"
            ],
            [
             0.4444444444444444,
             "#bd3786"
            ],
            [
             0.5555555555555556,
             "#d8576b"
            ],
            [
             0.6666666666666666,
             "#ed7953"
            ],
            [
             0.7777777777777778,
             "#fb9f3a"
            ],
            [
             0.8888888888888888,
             "#fdca26"
            ],
            [
             1,
             "#f0f921"
            ]
           ],
           "sequentialminus": [
            [
             0,
             "#0d0887"
            ],
            [
             0.1111111111111111,
             "#46039f"
            ],
            [
             0.2222222222222222,
             "#7201a8"
            ],
            [
             0.3333333333333333,
             "#9c179e"
            ],
            [
             0.4444444444444444,
             "#bd3786"
            ],
            [
             0.5555555555555556,
             "#d8576b"
            ],
            [
             0.6666666666666666,
             "#ed7953"
            ],
            [
             0.7777777777777778,
             "#fb9f3a"
            ],
            [
             0.8888888888888888,
             "#fdca26"
            ],
            [
             1,
             "#f0f921"
            ]
           ]
          },
          "colorway": [
           "#636efa",
           "#EF553B",
           "#00cc96",
           "#ab63fa",
           "#FFA15A",
           "#19d3f3",
           "#FF6692",
           "#B6E880",
           "#FF97FF",
           "#FECB52"
          ],
          "font": {
           "color": "#2a3f5f"
          },
          "geo": {
           "bgcolor": "white",
           "lakecolor": "white",
           "landcolor": "#E5ECF6",
           "showlakes": true,
           "showland": true,
           "subunitcolor": "white"
          },
          "hoverlabel": {
           "align": "left"
          },
          "hovermode": "closest",
          "mapbox": {
           "style": "light"
          },
          "paper_bgcolor": "white",
          "plot_bgcolor": "#E5ECF6",
          "polar": {
           "angularaxis": {
            "gridcolor": "white",
            "linecolor": "white",
            "ticks": ""
           },
           "bgcolor": "#E5ECF6",
           "radialaxis": {
            "gridcolor": "white",
            "linecolor": "white",
            "ticks": ""
           }
          },
          "scene": {
           "xaxis": {
            "backgroundcolor": "#E5ECF6",
            "gridcolor": "white",
            "gridwidth": 2,
            "linecolor": "white",
            "showbackground": true,
            "ticks": "",
            "zerolinecolor": "white"
           },
           "yaxis": {
            "backgroundcolor": "#E5ECF6",
            "gridcolor": "white",
            "gridwidth": 2,
            "linecolor": "white",
            "showbackground": true,
            "ticks": "",
            "zerolinecolor": "white"
           },
           "zaxis": {
            "backgroundcolor": "#E5ECF6",
            "gridcolor": "white",
            "gridwidth": 2,
            "linecolor": "white",
            "showbackground": true,
            "ticks": "",
            "zerolinecolor": "white"
           }
          },
          "shapedefaults": {
           "line": {
            "color": "#2a3f5f"
           }
          },
          "ternary": {
           "aaxis": {
            "gridcolor": "white",
            "linecolor": "white",
            "ticks": ""
           },
           "baxis": {
            "gridcolor": "white",
            "linecolor": "white",
            "ticks": ""
           },
           "bgcolor": "#E5ECF6",
           "caxis": {
            "gridcolor": "white",
            "linecolor": "white",
            "ticks": ""
           }
          },
          "title": {
           "x": 0.05
          },
          "xaxis": {
           "automargin": true,
           "gridcolor": "white",
           "linecolor": "white",
           "ticks": "",
           "title": {
            "standoff": 15
           },
           "zerolinecolor": "white",
           "zerolinewidth": 2
          },
          "yaxis": {
           "automargin": true,
           "gridcolor": "white",
           "linecolor": "white",
           "ticks": "",
           "title": {
            "standoff": 15
           },
           "zerolinecolor": "white",
           "zerolinewidth": 2
          }
         }
        },
        "title": {
         "text": "Распределение студентов по возрастам",
         "x": 0.5
        },
        "xaxis": {
         "anchor": "y",
         "domain": [
          0,
          1
         ],
         "title": {
          "text": "Возраст студента"
         }
        },
        "yaxis": {
         "anchor": "x",
         "domain": [
          0,
          1
         ],
         "title": {
          "text": "Количество"
         }
        }
       }
      }
     },
     "metadata": {},
     "output_type": "display_data"
    }
   ],
   "source": [
    "df_group_ages = df.groupby('age').size().reset_index().rename(columns={0: 'Количество'})\n",
    "fig1 = px.bar(df_group_ages, x = 'age', y = 'Количество', labels='Количество', text_auto = True)\n",
    "fig1.update_layout(title={'text': 'Распределение студентов по возрастам', 'x': 0.5},\n",
    "                    xaxis_title = 'Возраст студента')"
   ]
  },
  {
   "cell_type": "code",
   "execution_count": 94,
   "id": "7a997f71",
   "metadata": {},
   "outputs": [
    {
     "data": {
      "application/vnd.plotly.v1+json": {
       "config": {
        "plotlyServerURL": "https://plotly.com"
       },
       "data": [
        {
         "hovertemplate": "gender=Female<br>part_time_job=%{x}<br>Количество=%{y}<extra></extra>",
         "legendgroup": "Female",
         "marker": {
          "color": "#636efa",
          "pattern": {
           "shape": ""
          }
         },
         "name": "Female",
         "orientation": "v",
         "showlegend": true,
         "textposition": "auto",
         "texttemplate": "%{y}",
         "type": "bar",
         "x": [
          "No",
          "Yes"
         ],
         "xaxis": "x",
         "y": {
          "bdata": "gQFgAA==",
          "dtype": "i2"
         },
         "yaxis": "y"
        },
        {
         "hovertemplate": "gender=Male<br>part_time_job=%{x}<br>Количество=%{y}<extra></extra>",
         "legendgroup": "Male",
         "marker": {
          "color": "#EF553B",
          "pattern": {
           "shape": ""
          }
         },
         "name": "Male",
         "orientation": "v",
         "showlegend": true,
         "textposition": "auto",
         "texttemplate": "%{y}",
         "type": "bar",
         "x": [
          "No",
          "Yes"
         ],
         "xaxis": "x",
         "y": {
          "bdata": "cAFtAA==",
          "dtype": "i2"
         },
         "yaxis": "y"
        },
        {
         "hovertemplate": "gender=Other<br>part_time_job=%{x}<br>Количество=%{y}<extra></extra>",
         "legendgroup": "Other",
         "marker": {
          "color": "#00cc96",
          "pattern": {
           "shape": ""
          }
         },
         "name": "Other",
         "orientation": "v",
         "showlegend": true,
         "textposition": "auto",
         "texttemplate": "%{y}",
         "type": "bar",
         "x": [
          "No",
          "Yes"
         ],
         "xaxis": "x",
         "y": {
          "bdata": "IAo=",
          "dtype": "i1"
         },
         "yaxis": "y"
        }
       ],
       "layout": {
        "barmode": "relative",
        "legend": {
         "title": {
          "text": "Пол студента"
         },
         "tracegroupgap": 0
        },
        "margin": {
         "t": 60
        },
        "template": {
         "data": {
          "bar": [
           {
            "error_x": {
             "color": "#2a3f5f"
            },
            "error_y": {
             "color": "#2a3f5f"
            },
            "marker": {
             "line": {
              "color": "#E5ECF6",
              "width": 0.5
             },
             "pattern": {
              "fillmode": "overlay",
              "size": 10,
              "solidity": 0.2
             }
            },
            "type": "bar"
           }
          ],
          "barpolar": [
           {
            "marker": {
             "line": {
              "color": "#E5ECF6",
              "width": 0.5
             },
             "pattern": {
              "fillmode": "overlay",
              "size": 10,
              "solidity": 0.2
             }
            },
            "type": "barpolar"
           }
          ],
          "carpet": [
           {
            "aaxis": {
             "endlinecolor": "#2a3f5f",
             "gridcolor": "white",
             "linecolor": "white",
             "minorgridcolor": "white",
             "startlinecolor": "#2a3f5f"
            },
            "baxis": {
             "endlinecolor": "#2a3f5f",
             "gridcolor": "white",
             "linecolor": "white",
             "minorgridcolor": "white",
             "startlinecolor": "#2a3f5f"
            },
            "type": "carpet"
           }
          ],
          "choropleth": [
           {
            "colorbar": {
             "outlinewidth": 0,
             "ticks": ""
            },
            "type": "choropleth"
           }
          ],
          "contour": [
           {
            "colorbar": {
             "outlinewidth": 0,
             "ticks": ""
            },
            "colorscale": [
             [
              0,
              "#0d0887"
             ],
             [
              0.1111111111111111,
              "#46039f"
             ],
             [
              0.2222222222222222,
              "#7201a8"
             ],
             [
              0.3333333333333333,
              "#9c179e"
             ],
             [
              0.4444444444444444,
              "#bd3786"
             ],
             [
              0.5555555555555556,
              "#d8576b"
             ],
             [
              0.6666666666666666,
              "#ed7953"
             ],
             [
              0.7777777777777778,
              "#fb9f3a"
             ],
             [
              0.8888888888888888,
              "#fdca26"
             ],
             [
              1,
              "#f0f921"
             ]
            ],
            "type": "contour"
           }
          ],
          "contourcarpet": [
           {
            "colorbar": {
             "outlinewidth": 0,
             "ticks": ""
            },
            "type": "contourcarpet"
           }
          ],
          "heatmap": [
           {
            "colorbar": {
             "outlinewidth": 0,
             "ticks": ""
            },
            "colorscale": [
             [
              0,
              "#0d0887"
             ],
             [
              0.1111111111111111,
              "#46039f"
             ],
             [
              0.2222222222222222,
              "#7201a8"
             ],
             [
              0.3333333333333333,
              "#9c179e"
             ],
             [
              0.4444444444444444,
              "#bd3786"
             ],
             [
              0.5555555555555556,
              "#d8576b"
             ],
             [
              0.6666666666666666,
              "#ed7953"
             ],
             [
              0.7777777777777778,
              "#fb9f3a"
             ],
             [
              0.8888888888888888,
              "#fdca26"
             ],
             [
              1,
              "#f0f921"
             ]
            ],
            "type": "heatmap"
           }
          ],
          "histogram": [
           {
            "marker": {
             "pattern": {
              "fillmode": "overlay",
              "size": 10,
              "solidity": 0.2
             }
            },
            "type": "histogram"
           }
          ],
          "histogram2d": [
           {
            "colorbar": {
             "outlinewidth": 0,
             "ticks": ""
            },
            "colorscale": [
             [
              0,
              "#0d0887"
             ],
             [
              0.1111111111111111,
              "#46039f"
             ],
             [
              0.2222222222222222,
              "#7201a8"
             ],
             [
              0.3333333333333333,
              "#9c179e"
             ],
             [
              0.4444444444444444,
              "#bd3786"
             ],
             [
              0.5555555555555556,
              "#d8576b"
             ],
             [
              0.6666666666666666,
              "#ed7953"
             ],
             [
              0.7777777777777778,
              "#fb9f3a"
             ],
             [
              0.8888888888888888,
              "#fdca26"
             ],
             [
              1,
              "#f0f921"
             ]
            ],
            "type": "histogram2d"
           }
          ],
          "histogram2dcontour": [
           {
            "colorbar": {
             "outlinewidth": 0,
             "ticks": ""
            },
            "colorscale": [
             [
              0,
              "#0d0887"
             ],
             [
              0.1111111111111111,
              "#46039f"
             ],
             [
              0.2222222222222222,
              "#7201a8"
             ],
             [
              0.3333333333333333,
              "#9c179e"
             ],
             [
              0.4444444444444444,
              "#bd3786"
             ],
             [
              0.5555555555555556,
              "#d8576b"
             ],
             [
              0.6666666666666666,
              "#ed7953"
             ],
             [
              0.7777777777777778,
              "#fb9f3a"
             ],
             [
              0.8888888888888888,
              "#fdca26"
             ],
             [
              1,
              "#f0f921"
             ]
            ],
            "type": "histogram2dcontour"
           }
          ],
          "mesh3d": [
           {
            "colorbar": {
             "outlinewidth": 0,
             "ticks": ""
            },
            "type": "mesh3d"
           }
          ],
          "parcoords": [
           {
            "line": {
             "colorbar": {
              "outlinewidth": 0,
              "ticks": ""
             }
            },
            "type": "parcoords"
           }
          ],
          "pie": [
           {
            "automargin": true,
            "type": "pie"
           }
          ],
          "scatter": [
           {
            "fillpattern": {
             "fillmode": "overlay",
             "size": 10,
             "solidity": 0.2
            },
            "type": "scatter"
           }
          ],
          "scatter3d": [
           {
            "line": {
             "colorbar": {
              "outlinewidth": 0,
              "ticks": ""
             }
            },
            "marker": {
             "colorbar": {
              "outlinewidth": 0,
              "ticks": ""
             }
            },
            "type": "scatter3d"
           }
          ],
          "scattercarpet": [
           {
            "marker": {
             "colorbar": {
              "outlinewidth": 0,
              "ticks": ""
             }
            },
            "type": "scattercarpet"
           }
          ],
          "scattergeo": [
           {
            "marker": {
             "colorbar": {
              "outlinewidth": 0,
              "ticks": ""
             }
            },
            "type": "scattergeo"
           }
          ],
          "scattergl": [
           {
            "marker": {
             "colorbar": {
              "outlinewidth": 0,
              "ticks": ""
             }
            },
            "type": "scattergl"
           }
          ],
          "scattermap": [
           {
            "marker": {
             "colorbar": {
              "outlinewidth": 0,
              "ticks": ""
             }
            },
            "type": "scattermap"
           }
          ],
          "scattermapbox": [
           {
            "marker": {
             "colorbar": {
              "outlinewidth": 0,
              "ticks": ""
             }
            },
            "type": "scattermapbox"
           }
          ],
          "scatterpolar": [
           {
            "marker": {
             "colorbar": {
              "outlinewidth": 0,
              "ticks": ""
             }
            },
            "type": "scatterpolar"
           }
          ],
          "scatterpolargl": [
           {
            "marker": {
             "colorbar": {
              "outlinewidth": 0,
              "ticks": ""
             }
            },
            "type": "scatterpolargl"
           }
          ],
          "scatterternary": [
           {
            "marker": {
             "colorbar": {
              "outlinewidth": 0,
              "ticks": ""
             }
            },
            "type": "scatterternary"
           }
          ],
          "surface": [
           {
            "colorbar": {
             "outlinewidth": 0,
             "ticks": ""
            },
            "colorscale": [
             [
              0,
              "#0d0887"
             ],
             [
              0.1111111111111111,
              "#46039f"
             ],
             [
              0.2222222222222222,
              "#7201a8"
             ],
             [
              0.3333333333333333,
              "#9c179e"
             ],
             [
              0.4444444444444444,
              "#bd3786"
             ],
             [
              0.5555555555555556,
              "#d8576b"
             ],
             [
              0.6666666666666666,
              "#ed7953"
             ],
             [
              0.7777777777777778,
              "#fb9f3a"
             ],
             [
              0.8888888888888888,
              "#fdca26"
             ],
             [
              1,
              "#f0f921"
             ]
            ],
            "type": "surface"
           }
          ],
          "table": [
           {
            "cells": {
             "fill": {
              "color": "#EBF0F8"
             },
             "line": {
              "color": "white"
             }
            },
            "header": {
             "fill": {
              "color": "#C8D4E3"
             },
             "line": {
              "color": "white"
             }
            },
            "type": "table"
           }
          ]
         },
         "layout": {
          "annotationdefaults": {
           "arrowcolor": "#2a3f5f",
           "arrowhead": 0,
           "arrowwidth": 1
          },
          "autotypenumbers": "strict",
          "coloraxis": {
           "colorbar": {
            "outlinewidth": 0,
            "ticks": ""
           }
          },
          "colorscale": {
           "diverging": [
            [
             0,
             "#8e0152"
            ],
            [
             0.1,
             "#c51b7d"
            ],
            [
             0.2,
             "#de77ae"
            ],
            [
             0.3,
             "#f1b6da"
            ],
            [
             0.4,
             "#fde0ef"
            ],
            [
             0.5,
             "#f7f7f7"
            ],
            [
             0.6,
             "#e6f5d0"
            ],
            [
             0.7,
             "#b8e186"
            ],
            [
             0.8,
             "#7fbc41"
            ],
            [
             0.9,
             "#4d9221"
            ],
            [
             1,
             "#276419"
            ]
           ],
           "sequential": [
            [
             0,
             "#0d0887"
            ],
            [
             0.1111111111111111,
             "#46039f"
            ],
            [
             0.2222222222222222,
             "#7201a8"
            ],
            [
             0.3333333333333333,
             "#9c179e"
            ],
            [
             0.4444444444444444,
             "#bd3786"
            ],
            [
             0.5555555555555556,
             "#d8576b"
            ],
            [
             0.6666666666666666,
             "#ed7953"
            ],
            [
             0.7777777777777778,
             "#fb9f3a"
            ],
            [
             0.8888888888888888,
             "#fdca26"
            ],
            [
             1,
             "#f0f921"
            ]
           ],
           "sequentialminus": [
            [
             0,
             "#0d0887"
            ],
            [
             0.1111111111111111,
             "#46039f"
            ],
            [
             0.2222222222222222,
             "#7201a8"
            ],
            [
             0.3333333333333333,
             "#9c179e"
            ],
            [
             0.4444444444444444,
             "#bd3786"
            ],
            [
             0.5555555555555556,
             "#d8576b"
            ],
            [
             0.6666666666666666,
             "#ed7953"
            ],
            [
             0.7777777777777778,
             "#fb9f3a"
            ],
            [
             0.8888888888888888,
             "#fdca26"
            ],
            [
             1,
             "#f0f921"
            ]
           ]
          },
          "colorway": [
           "#636efa",
           "#EF553B",
           "#00cc96",
           "#ab63fa",
           "#FFA15A",
           "#19d3f3",
           "#FF6692",
           "#B6E880",
           "#FF97FF",
           "#FECB52"
          ],
          "font": {
           "color": "#2a3f5f"
          },
          "geo": {
           "bgcolor": "white",
           "lakecolor": "white",
           "landcolor": "#E5ECF6",
           "showlakes": true,
           "showland": true,
           "subunitcolor": "white"
          },
          "hoverlabel": {
           "align": "left"
          },
          "hovermode": "closest",
          "mapbox": {
           "style": "light"
          },
          "paper_bgcolor": "white",
          "plot_bgcolor": "#E5ECF6",
          "polar": {
           "angularaxis": {
            "gridcolor": "white",
            "linecolor": "white",
            "ticks": ""
           },
           "bgcolor": "#E5ECF6",
           "radialaxis": {
            "gridcolor": "white",
            "linecolor": "white",
            "ticks": ""
           }
          },
          "scene": {
           "xaxis": {
            "backgroundcolor": "#E5ECF6",
            "gridcolor": "white",
            "gridwidth": 2,
            "linecolor": "white",
            "showbackground": true,
            "ticks": "",
            "zerolinecolor": "white"
           },
           "yaxis": {
            "backgroundcolor": "#E5ECF6",
            "gridcolor": "white",
            "gridwidth": 2,
            "linecolor": "white",
            "showbackground": true,
            "ticks": "",
            "zerolinecolor": "white"
           },
           "zaxis": {
            "backgroundcolor": "#E5ECF6",
            "gridcolor": "white",
            "gridwidth": 2,
            "linecolor": "white",
            "showbackground": true,
            "ticks": "",
            "zerolinecolor": "white"
           }
          },
          "shapedefaults": {
           "line": {
            "color": "#2a3f5f"
           }
          },
          "ternary": {
           "aaxis": {
            "gridcolor": "white",
            "linecolor": "white",
            "ticks": ""
           },
           "baxis": {
            "gridcolor": "white",
            "linecolor": "white",
            "ticks": ""
           },
           "bgcolor": "#E5ECF6",
           "caxis": {
            "gridcolor": "white",
            "linecolor": "white",
            "ticks": ""
           }
          },
          "title": {
           "x": 0.05
          },
          "xaxis": {
           "automargin": true,
           "gridcolor": "white",
           "linecolor": "white",
           "ticks": "",
           "title": {
            "standoff": 15
           },
           "zerolinecolor": "white",
           "zerolinewidth": 2
          },
          "yaxis": {
           "automargin": true,
           "gridcolor": "white",
           "linecolor": "white",
           "ticks": "",
           "title": {
            "standoff": 15
           },
           "zerolinecolor": "white",
           "zerolinewidth": 2
          }
         }
        },
        "title": {
         "text": "Распределение студентов по занятости (работает или нет)",
         "x": 0.5
        },
        "xaxis": {
         "anchor": "y",
         "domain": [
          0,
          1
         ],
         "title": {
          "text": "Есть ли у студента работа"
         }
        },
        "yaxis": {
         "anchor": "x",
         "domain": [
          0,
          1
         ],
         "title": {
          "text": "Количество"
         }
        }
       }
      }
     },
     "metadata": {},
     "output_type": "display_data"
    }
   ],
   "source": [
    "df_group_work = df.groupby(['part_time_job', 'gender']).size().reset_index().rename(columns={0: 'Количество'})\n",
    "fig4 = px.bar(df_group_work, x = 'part_time_job', color = 'gender', y = 'Количество', labels='Количество', text_auto = True)\n",
    "fig4.update_layout(title={'text': 'Распределение студентов по занятости (работает или нет)', 'x': 0.5},\n",
    "                    xaxis_title = 'Есть ли у студента работа',\n",
    "                    legend = {'title': 'Пол студента'})"
   ]
  },
  {
   "cell_type": "code",
   "execution_count": null,
   "id": "42af35f9",
   "metadata": {},
   "outputs": [
    {
     "data": {
      "application/vnd.plotly.v1+json": {
       "config": {
        "plotlyServerURL": "https://plotly.com"
       },
       "data": [
        {
         "bingroup": "x",
         "hovertemplate": "gender=Female<br>exam_score=%{x}<br>count=%{y}<extra></extra>",
         "legendgroup": "Female",
         "marker": {
          "color": "#636efa",
          "opacity": 0.7,
          "pattern": {
           "shape": ""
          }
         },
         "name": "Female",
         "orientation": "v",
         "showlegend": true,
         "type": "histogram",
         "x": {
          "bdata": "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",
          "dtype": "f8"
         },
         "xaxis": "x",
         "yaxis": "y"
        },
        {
         "bingroup": "x",
         "hovertemplate": "gender=Male<br>exam_score=%{x}<br>count=%{y}<extra></extra>",
         "legendgroup": "Male",
         "marker": {
          "color": "#EF553B",
          "opacity": 0.7,
          "pattern": {
           "shape": ""
          }
         },
         "name": "Male",
         "orientation": "v",
         "showlegend": true,
         "type": "histogram",
         "x": {
          "bdata": "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",
          "dtype": "f8"
         },
         "xaxis": "x2",
         "yaxis": "y2"
        },
        {
         "bingroup": "x",
         "hovertemplate": "gender=Other<br>exam_score=%{x}<br>count=%{y}<extra></extra>",
         "legendgroup": "Other",
         "marker": {
          "color": "#00cc96",
          "opacity": 0.7,
          "pattern": {
           "shape": ""
          }
         },
         "name": "Other",
         "orientation": "v",
         "showlegend": true,
         "type": "histogram",
         "x": {
          "bdata": "MzMzMzPzRUDNzMzMzKxYQGZmZmZmpklAzczMzMwMSkDNzMzMzMxMQDMzMzMzM1NAMzMzMzNTUEDNzMzMzExQQDMzMzMzM0xAAAAAAADAVUAzMzMzMxNYQAAAAAAAQFVAAAAAAABAU0DNzMzMzKxRQAAAAAAAgE9AmpmZmZnZTkAzMzMzM7NKQGZmZmZmplBAZmZmZmZmVkAAAAAAAMBOQM3MzMzMDFRAMzMzMzMzUkCamZmZmZlRQJqZmZmZmVFAAAAAAAAAWUCamZmZmblQQDMzMzMzM0xAMzMzMzPzTUAAAAAAAABTQAAAAAAA4FVAmpmZmZn5VEAAAAAAAKBTQGZmZmZmRlRAZmZmZmamUkAAAAAAAOBQQM3MzMzMDFFAMzMzMzNzUUAzMzMzM7NMQM3MzMzMzEpAAAAAAADgUEBmZmZmZkZWQDMzMzMzM0xA",
          "dtype": "f8"
         },
         "xaxis": "x3",
         "yaxis": "y3"
        }
       ],
       "layout": {
        "annotations": [
         {
          "font": {},
          "showarrow": false,
          "text": "Female",
          "x": 0.15,
          "xanchor": "center",
          "xref": "paper",
          "y": 1,
          "yanchor": "bottom",
          "yref": "paper"
         },
         {
          "font": {},
          "showarrow": false,
          "text": "Male",
          "x": 0.49999999999999994,
          "xanchor": "center",
          "xref": "paper",
          "y": 1,
          "yanchor": "bottom",
          "yref": "paper"
         },
         {
          "font": {},
          "showarrow": false,
          "text": "Other",
          "x": 0.85,
          "xanchor": "center",
          "xref": "paper",
          "y": 1,
          "yanchor": "bottom",
          "yref": "paper"
         }
        ],
        "bargap": 0.1,
        "barmode": "overlay",
        "legend": {
         "title": {
          "text": "Пол студента"
         },
         "tracegroupgap": 0
        },
        "margin": {
         "t": 60
        },
        "plot_bgcolor": "white",
        "showlegend": true,
        "template": {
         "data": {
          "bar": [
           {
            "error_x": {
             "color": "#2a3f5f"
            },
            "error_y": {
             "color": "#2a3f5f"
            },
            "marker": {
             "line": {
              "color": "#E5ECF6",
              "width": 0.5
             },
             "pattern": {
              "fillmode": "overlay",
              "size": 10,
              "solidity": 0.2
             }
            },
            "type": "bar"
           }
          ],
          "barpolar": [
           {
            "marker": {
             "line": {
              "color": "#E5ECF6",
              "width": 0.5
             },
             "pattern": {
              "fillmode": "overlay",
              "size": 10,
              "solidity": 0.2
             }
            },
            "type": "barpolar"
           }
          ],
          "carpet": [
           {
            "aaxis": {
             "endlinecolor": "#2a3f5f",
             "gridcolor": "white",
             "linecolor": "white",
             "minorgridcolor": "white",
             "startlinecolor": "#2a3f5f"
            },
            "baxis": {
             "endlinecolor": "#2a3f5f",
             "gridcolor": "white",
             "linecolor": "white",
             "minorgridcolor": "white",
             "startlinecolor": "#2a3f5f"
            },
            "type": "carpet"
           }
          ],
          "choropleth": [
           {
            "colorbar": {
             "outlinewidth": 0,
             "ticks": ""
            },
            "type": "choropleth"
           }
          ],
          "contour": [
           {
            "colorbar": {
             "outlinewidth": 0,
             "ticks": ""
            },
            "colorscale": [
             [
              0,
              "#0d0887"
             ],
             [
              0.1111111111111111,
              "#46039f"
             ],
             [
              0.2222222222222222,
              "#7201a8"
             ],
             [
              0.3333333333333333,
              "#9c179e"
             ],
             [
              0.4444444444444444,
              "#bd3786"
             ],
             [
              0.5555555555555556,
              "#d8576b"
             ],
             [
              0.6666666666666666,
              "#ed7953"
             ],
             [
              0.7777777777777778,
              "#fb9f3a"
             ],
             [
              0.8888888888888888,
              "#fdca26"
             ],
             [
              1,
              "#f0f921"
             ]
            ],
            "type": "contour"
           }
          ],
          "contourcarpet": [
           {
            "colorbar": {
             "outlinewidth": 0,
             "ticks": ""
            },
            "type": "contourcarpet"
           }
          ],
          "heatmap": [
           {
            "colorbar": {
             "outlinewidth": 0,
             "ticks": ""
            },
            "colorscale": [
             [
              0,
              "#0d0887"
             ],
             [
              0.1111111111111111,
              "#46039f"
             ],
             [
              0.2222222222222222,
              "#7201a8"
             ],
             [
              0.3333333333333333,
              "#9c179e"
             ],
             [
              0.4444444444444444,
              "#bd3786"
             ],
             [
              0.5555555555555556,
              "#d8576b"
             ],
             [
              0.6666666666666666,
              "#ed7953"
             ],
             [
              0.7777777777777778,
              "#fb9f3a"
             ],
             [
              0.8888888888888888,
              "#fdca26"
             ],
             [
              1,
              "#f0f921"
             ]
            ],
            "type": "heatmap"
           }
          ],
          "histogram": [
           {
            "marker": {
             "pattern": {
              "fillmode": "overlay",
              "size": 10,
              "solidity": 0.2
             }
            },
            "type": "histogram"
           }
          ],
          "histogram2d": [
           {
            "colorbar": {
             "outlinewidth": 0,
             "ticks": ""
            },
            "colorscale": [
             [
              0,
              "#0d0887"
             ],
             [
              0.1111111111111111,
              "#46039f"
             ],
             [
              0.2222222222222222,
              "#7201a8"
             ],
             [
              0.3333333333333333,
              "#9c179e"
             ],
             [
              0.4444444444444444,
              "#bd3786"
             ],
             [
              0.5555555555555556,
              "#d8576b"
             ],
             [
              0.6666666666666666,
              "#ed7953"
             ],
             [
              0.7777777777777778,
              "#fb9f3a"
             ],
             [
              0.8888888888888888,
              "#fdca26"
             ],
             [
              1,
              "#f0f921"
             ]
            ],
            "type": "histogram2d"
           }
          ],
          "histogram2dcontour": [
           {
            "colorbar": {
             "outlinewidth": 0,
             "ticks": ""
            },
            "colorscale": [
             [
              0,
              "#0d0887"
             ],
             [
              0.1111111111111111,
              "#46039f"
             ],
             [
              0.2222222222222222,
              "#7201a8"
             ],
             [
              0.3333333333333333,
              "#9c179e"
             ],
             [
              0.4444444444444444,
              "#bd3786"
             ],
             [
              0.5555555555555556,
              "#d8576b"
             ],
             [
              0.6666666666666666,
              "#ed7953"
             ],
             [
              0.7777777777777778,
              "#fb9f3a"
             ],
             [
              0.8888888888888888,
              "#fdca26"
             ],
             [
              1,
              "#f0f921"
             ]
            ],
            "type": "histogram2dcontour"
           }
          ],
          "mesh3d": [
           {
            "colorbar": {
             "outlinewidth": 0,
             "ticks": ""
            },
            "type": "mesh3d"
           }
          ],
          "parcoords": [
           {
            "line": {
             "colorbar": {
              "outlinewidth": 0,
              "ticks": ""
             }
            },
            "type": "parcoords"
           }
          ],
          "pie": [
           {
            "automargin": true,
            "type": "pie"
           }
          ],
          "scatter": [
           {
            "fillpattern": {
             "fillmode": "overlay",
             "size": 10,
             "solidity": 0.2
            },
            "type": "scatter"
           }
          ],
          "scatter3d": [
           {
            "line": {
             "colorbar": {
              "outlinewidth": 0,
              "ticks": ""
             }
            },
            "marker": {
             "colorbar": {
              "outlinewidth": 0,
              "ticks": ""
             }
            },
            "type": "scatter3d"
           }
          ],
          "scattercarpet": [
           {
            "marker": {
             "colorbar": {
              "outlinewidth": 0,
              "ticks": ""
             }
            },
            "type": "scattercarpet"
           }
          ],
          "scattergeo": [
           {
            "marker": {
             "colorbar": {
              "outlinewidth": 0,
              "ticks": ""
             }
            },
            "type": "scattergeo"
           }
          ],
          "scattergl": [
           {
            "marker": {
             "colorbar": {
              "outlinewidth": 0,
              "ticks": ""
             }
            },
            "type": "scattergl"
           }
          ],
          "scattermap": [
           {
            "marker": {
             "colorbar": {
              "outlinewidth": 0,
              "ticks": ""
             }
            },
            "type": "scattermap"
           }
          ],
          "scattermapbox": [
           {
            "marker": {
             "colorbar": {
              "outlinewidth": 0,
              "ticks": ""
             }
            },
            "type": "scattermapbox"
           }
          ],
          "scatterpolar": [
           {
            "marker": {
             "colorbar": {
              "outlinewidth": 0,
              "ticks": ""
             }
            },
            "type": "scatterpolar"
           }
          ],
          "scatterpolargl": [
           {
            "marker": {
             "colorbar": {
              "outlinewidth": 0,
              "ticks": ""
             }
            },
            "type": "scatterpolargl"
           }
          ],
          "scatterternary": [
           {
            "marker": {
             "colorbar": {
              "outlinewidth": 0,
              "ticks": ""
             }
            },
            "type": "scatterternary"
           }
          ],
          "surface": [
           {
            "colorbar": {
             "outlinewidth": 0,
             "ticks": ""
            },
            "colorscale": [
             [
              0,
              "#0d0887"
             ],
             [
              0.1111111111111111,
              "#46039f"
             ],
             [
              0.2222222222222222,
              "#7201a8"
             ],
             [
              0.3333333333333333,
              "#9c179e"
             ],
             [
              0.4444444444444444,
              "#bd3786"
             ],
             [
              0.5555555555555556,
              "#d8576b"
             ],
             [
              0.6666666666666666,
              "#ed7953"
             ],
             [
              0.7777777777777778,
              "#fb9f3a"
             ],
             [
              0.8888888888888888,
              "#fdca26"
             ],
             [
              1,
              "#f0f921"
             ]
            ],
            "type": "surface"
           }
          ],
          "table": [
           {
            "cells": {
             "fill": {
              "color": "#EBF0F8"
             },
             "line": {
              "color": "white"
             }
            },
            "header": {
             "fill": {
              "color": "#C8D4E3"
             },
             "line": {
              "color": "white"
             }
            },
            "type": "table"
           }
          ]
         },
         "layout": {
          "annotationdefaults": {
           "arrowcolor": "#2a3f5f",
           "arrowhead": 0,
           "arrowwidth": 1
          },
          "autotypenumbers": "strict",
          "coloraxis": {
           "colorbar": {
            "outlinewidth": 0,
            "ticks": ""
           }
          },
          "colorscale": {
           "diverging": [
            [
             0,
             "#8e0152"
            ],
            [
             0.1,
             "#c51b7d"
            ],
            [
             0.2,
             "#de77ae"
            ],
            [
             0.3,
             "#f1b6da"
            ],
            [
             0.4,
             "#fde0ef"
            ],
            [
             0.5,
             "#f7f7f7"
            ],
            [
             0.6,
             "#e6f5d0"
            ],
            [
             0.7,
             "#b8e186"
            ],
            [
             0.8,
             "#7fbc41"
            ],
            [
             0.9,
             "#4d9221"
            ],
            [
             1,
             "#276419"
            ]
           ],
           "sequential": [
            [
             0,
             "#0d0887"
            ],
            [
             0.1111111111111111,
             "#46039f"
            ],
            [
             0.2222222222222222,
             "#7201a8"
            ],
            [
             0.3333333333333333,
             "#9c179e"
            ],
            [
             0.4444444444444444,
             "#bd3786"
            ],
            [
             0.5555555555555556,
             "#d8576b"
            ],
            [
             0.6666666666666666,
             "#ed7953"
            ],
            [
             0.7777777777777778,
             "#fb9f3a"
            ],
            [
             0.8888888888888888,
             "#fdca26"
            ],
            [
             1,
             "#f0f921"
            ]
           ],
           "sequentialminus": [
            [
             0,
             "#0d0887"
            ],
            [
             0.1111111111111111,
             "#46039f"
            ],
            [
             0.2222222222222222,
             "#7201a8"
            ],
            [
             0.3333333333333333,
             "#9c179e"
            ],
            [
             0.4444444444444444,
             "#bd3786"
            ],
            [
             0.5555555555555556,
             "#d8576b"
            ],
            [
             0.6666666666666666,
             "#ed7953"
            ],
            [
             0.7777777777777778,
             "#fb9f3a"
            ],
            [
             0.8888888888888888,
             "#fdca26"
            ],
            [
             1,
             "#f0f921"
            ]
           ]
          },
          "colorway": [
           "#636efa",
           "#EF553B",
           "#00cc96",
           "#ab63fa",
           "#FFA15A",
           "#19d3f3",
           "#FF6692",
           "#B6E880",
           "#FF97FF",
           "#FECB52"
          ],
          "font": {
           "color": "#2a3f5f"
          },
          "geo": {
           "bgcolor": "white",
           "lakecolor": "white",
           "landcolor": "#E5ECF6",
           "showlakes": true,
           "showland": true,
           "subunitcolor": "white"
          },
          "hoverlabel": {
           "align": "left"
          },
          "hovermode": "closest",
          "mapbox": {
           "style": "light"
          },
          "paper_bgcolor": "white",
          "plot_bgcolor": "#E5ECF6",
          "polar": {
           "angularaxis": {
            "gridcolor": "white",
            "linecolor": "white",
            "ticks": ""
           },
           "bgcolor": "#E5ECF6",
           "radialaxis": {
            "gridcolor": "white",
            "linecolor": "white",
            "ticks": ""
           }
          },
          "scene": {
           "xaxis": {
            "backgroundcolor": "#E5ECF6",
            "gridcolor": "white",
            "gridwidth": 2,
            "linecolor": "white",
            "showbackground": true,
            "ticks": "",
            "zerolinecolor": "white"
           },
           "yaxis": {
            "backgroundcolor": "#E5ECF6",
            "gridcolor": "white",
            "gridwidth": 2,
            "linecolor": "white",
            "showbackground": true,
            "ticks": "",
            "zerolinecolor": "white"
           },
           "zaxis": {
            "backgroundcolor": "#E5ECF6",
            "gridcolor": "white",
            "gridwidth": 2,
            "linecolor": "white",
            "showbackground": true,
            "ticks": "",
            "zerolinecolor": "white"
           }
          },
          "shapedefaults": {
           "line": {
            "color": "#2a3f5f"
           }
          },
          "ternary": {
           "aaxis": {
            "gridcolor": "white",
            "linecolor": "white",
            "ticks": ""
           },
           "baxis": {
            "gridcolor": "white",
            "linecolor": "white",
            "ticks": ""
           },
           "bgcolor": "#E5ECF6",
           "caxis": {
            "gridcolor": "white",
            "linecolor": "white",
            "ticks": ""
           }
          },
          "title": {
           "x": 0.05
          },
          "xaxis": {
           "automargin": true,
           "gridcolor": "white",
           "linecolor": "white",
           "ticks": "",
           "title": {
            "standoff": 15
           },
           "zerolinecolor": "white",
           "zerolinewidth": 2
          },
          "yaxis": {
           "automargin": true,
           "gridcolor": "white",
           "linecolor": "white",
           "ticks": "",
           "title": {
            "standoff": 15
           },
           "zerolinecolor": "white",
           "zerolinewidth": 2
          }
         }
        },
        "title": {
         "text": "Распределение оценко за экзамен по полу",
         "x": 0.5
        },
        "xaxis": {
         "anchor": "y",
         "domain": [
          0,
          0.3
         ],
         "showgrid": true,
         "title": {
          "text": "exam_score"
         }
        },
        "xaxis2": {
         "anchor": "y2",
         "domain": [
          0.35,
          0.6499999999999999
         ],
         "showgrid": true,
         "title": {
          "text": "exam_score"
         }
        },
        "xaxis3": {
         "anchor": "y3",
         "domain": [
          0.7,
          1
         ],
         "showgrid": true,
         "title": {
          "text": "exam_score"
         }
        },
        "yaxis": {
         "anchor": "x",
         "domain": [
          0,
          1
         ],
         "showgrid": true,
         "title": {
          "text": "Количество студентов"
         }
        },
        "yaxis2": {
         "anchor": "x2",
         "domain": [
          0,
          1
         ],
         "showgrid": true,
         "showticklabels": false
        },
        "yaxis3": {
         "anchor": "x3",
         "domain": [
          0,
          1
         ],
         "showgrid": true,
         "showticklabels": false
        }
       }
      }
     },
     "metadata": {},
     "output_type": "display_data"
    }
   ],
   "source": [
    "\n",
    "fig5 = px.histogram(\n",
    "    df, \n",
    "    x='exam_score',\n",
    "    facet_col='gender',\n",
    "    color='gender',   \n",
    "    opacity=0.7,   \n",
    "    barmode='overlay',  \n",
    "    facet_col_spacing=0.05, \n",
    ")\n",
    "\n",
    "fig5.update_layout(\n",
    "    title={\n",
    "        'text': 'Распределение оценок за экзамен по полу',\n",
    "        'x': 0.5,\n",
    "    },\n",
    "    legend = {'title': 'Пол студента'},\n",
    "    yaxis_title='Количество студентов',\n",
    "    showlegend=True,  \n",
    "    plot_bgcolor='white', \n",
    "    bargap=0.1,\n",
    ")\n",
    "\n",
    "\n",
    "fig5.for_each_annotation(lambda a: a.update(text=a.text.split(\"=\")[-1]))\n",
    "\n",
    "fig5.update_xaxes(matches=None, showgrid=True)\n",
    "fig5.update_yaxes(matches=None, showgrid=True)\n",
    "\n",
    "\n",
    "fig5.show()"
   ]
  },
  {
   "cell_type": "code",
   "execution_count": 96,
   "id": "0bee5ec4",
   "metadata": {},
   "outputs": [
    {
     "data": {
      "application/vnd.plotly.v1+json": {
       "config": {
        "plotlyServerURL": "https://plotly.com"
       },
       "data": [
        {
         "bingroup": "x",
         "hovertemplate": "gender=Female<br>sleep_hours=%{x}<br>count=%{y}<extra></extra>",
         "legendgroup": "Female",
         "marker": {
          "color": "#636efa",
          "opacity": 0.7,
          "pattern": {
           "shape": ""
          }
         },
         "name": "Female",
         "orientation": "v",
         "showlegend": true,
         "type": "histogram",
         "x": {
          "bdata": "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",
          "dtype": "f8"
         },
         "xaxis": "x",
         "yaxis": "y"
        },
        {
         "bingroup": "x",
         "hovertemplate": "gender=Male<br>sleep_hours=%{x}<br>count=%{y}<extra></extra>",
         "legendgroup": "Male",
         "marker": {
          "color": "#EF553B",
          "opacity": 0.7,
          "pattern": {
           "shape": ""
          }
         },
         "name": "Male",
         "orientation": "v",
         "showlegend": true,
         "type": "histogram",
         "x": {
          "bdata": "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",
          "dtype": "f8"
         },
         "xaxis": "x2",
         "yaxis": "y2"
        },
        {
         "bingroup": "x",
         "hovertemplate": "gender=Other<br>sleep_hours=%{x}<br>count=%{y}<extra></extra>",
         "legendgroup": "Other",
         "marker": {
          "color": "#00cc96",
          "opacity": 0.7,
          "pattern": {
           "shape": ""
          }
         },
         "name": "Other",
         "orientation": "v",
         "showlegend": true,
         "type": "histogram",
         "x": {
          "bdata": "ZmZmZmZmHEAAAAAAAAAYQAAAAAAAACBAmpmZmZmZG0DNzMzMzMwaQGZmZmZmZhpAAAAAAAAAFEAzMzMzMzMZQJqZmZmZmRlAAAAAAAAAFkBmZmZmZmYcQGZmZmZmZhpAzczMzMzMHkAAAAAAAAAWQJqZmZmZmRdAZmZmZmZmGkBmZmZmZmYaQJqZmZmZmR9AzczMzMzMIEAzMzMzMzMfQDMzMzMzMx1AMzMzMzMzG0DNzMzMzMwaQDMzMzMzMx9AAAAAAAAAGEBmZmZmZmYWQGZmZmZmZiFAZmZmZmZmFkBmZmZmZmYeQDMzMzMzMxtAAAAAAAAAHkDNzMzMzMwWQAAAAAAAABpAMzMzMzMzHUCamZmZmZkVQAAAAAAAABpAmpmZmZmZHUAAAAAAAAAWQGZmZmZmZiFAzczMzMzMHEBmZmZmZmYeQAAAAAAAABxA",
          "dtype": "f8"
         },
         "xaxis": "x3",
         "yaxis": "y3"
        }
       ],
       "layout": {
        "annotations": [
         {
          "font": {},
          "showarrow": false,
          "text": "Female",
          "x": 0.15,
          "xanchor": "center",
          "xref": "paper",
          "y": 1,
          "yanchor": "bottom",
          "yref": "paper"
         },
         {
          "font": {},
          "showarrow": false,
          "text": "Male",
          "x": 0.49999999999999994,
          "xanchor": "center",
          "xref": "paper",
          "y": 1,
          "yanchor": "bottom",
          "yref": "paper"
         },
         {
          "font": {},
          "showarrow": false,
          "text": "Other",
          "x": 0.85,
          "xanchor": "center",
          "xref": "paper",
          "y": 1,
          "yanchor": "bottom",
          "yref": "paper"
         }
        ],
        "bargap": 0.1,
        "barmode": "overlay",
        "legend": {
         "title": {
          "text": "Пол студента"
         },
         "tracegroupgap": 0
        },
        "margin": {
         "t": 60
        },
        "plot_bgcolor": "white",
        "showlegend": true,
        "template": {
         "data": {
          "bar": [
           {
            "error_x": {
             "color": "#2a3f5f"
            },
            "error_y": {
             "color": "#2a3f5f"
            },
            "marker": {
             "line": {
              "color": "#E5ECF6",
              "width": 0.5
             },
             "pattern": {
              "fillmode": "overlay",
              "size": 10,
              "solidity": 0.2
             }
            },
            "type": "bar"
           }
          ],
          "barpolar": [
           {
            "marker": {
             "line": {
              "color": "#E5ECF6",
              "width": 0.5
             },
             "pattern": {
              "fillmode": "overlay",
              "size": 10,
              "solidity": 0.2
             }
            },
            "type": "barpolar"
           }
          ],
          "carpet": [
           {
            "aaxis": {
             "endlinecolor": "#2a3f5f",
             "gridcolor": "white",
             "linecolor": "white",
             "minorgridcolor": "white",
             "startlinecolor": "#2a3f5f"
            },
            "baxis": {
             "endlinecolor": "#2a3f5f",
             "gridcolor": "white",
             "linecolor": "white",
             "minorgridcolor": "white",
             "startlinecolor": "#2a3f5f"
            },
            "type": "carpet"
           }
          ],
          "choropleth": [
           {
            "colorbar": {
             "outlinewidth": 0,
             "ticks": ""
            },
            "type": "choropleth"
           }
          ],
          "contour": [
           {
            "colorbar": {
             "outlinewidth": 0,
             "ticks": ""
            },
            "colorscale": [
             [
              0,
              "#0d0887"
             ],
             [
              0.1111111111111111,
              "#46039f"
             ],
             [
              0.2222222222222222,
              "#7201a8"
             ],
             [
              0.3333333333333333,
              "#9c179e"
             ],
             [
              0.4444444444444444,
              "#bd3786"
             ],
             [
              0.5555555555555556,
              "#d8576b"
             ],
             [
              0.6666666666666666,
              "#ed7953"
             ],
             [
              0.7777777777777778,
              "#fb9f3a"
             ],
             [
              0.8888888888888888,
              "#fdca26"
             ],
             [
              1,
              "#f0f921"
             ]
            ],
            "type": "contour"
           }
          ],
          "contourcarpet": [
           {
            "colorbar": {
             "outlinewidth": 0,
             "ticks": ""
            },
            "type": "contourcarpet"
           }
          ],
          "heatmap": [
           {
            "colorbar": {
             "outlinewidth": 0,
             "ticks": ""
            },
            "colorscale": [
             [
              0,
              "#0d0887"
             ],
             [
              0.1111111111111111,
              "#46039f"
             ],
             [
              0.2222222222222222,
              "#7201a8"
             ],
             [
              0.3333333333333333,
              "#9c179e"
             ],
             [
              0.4444444444444444,
              "#bd3786"
             ],
             [
              0.5555555555555556,
              "#d8576b"
             ],
             [
              0.6666666666666666,
              "#ed7953"
             ],
             [
              0.7777777777777778,
              "#fb9f3a"
             ],
             [
              0.8888888888888888,
              "#fdca26"
             ],
             [
              1,
              "#f0f921"
             ]
            ],
            "type": "heatmap"
           }
          ],
          "histogram": [
           {
            "marker": {
             "pattern": {
              "fillmode": "overlay",
              "size": 10,
              "solidity": 0.2
             }
            },
            "type": "histogram"
           }
          ],
          "histogram2d": [
           {
            "colorbar": {
             "outlinewidth": 0,
             "ticks": ""
            },
            "colorscale": [
             [
              0,
              "#0d0887"
             ],
             [
              0.1111111111111111,
              "#46039f"
             ],
             [
              0.2222222222222222,
              "#7201a8"
             ],
             [
              0.3333333333333333,
              "#9c179e"
             ],
             [
              0.4444444444444444,
              "#bd3786"
             ],
             [
              0.5555555555555556,
              "#d8576b"
             ],
             [
              0.6666666666666666,
              "#ed7953"
             ],
             [
              0.7777777777777778,
              "#fb9f3a"
             ],
             [
              0.8888888888888888,
              "#fdca26"
             ],
             [
              1,
              "#f0f921"
             ]
            ],
            "type": "histogram2d"
           }
          ],
          "histogram2dcontour": [
           {
            "colorbar": {
             "outlinewidth": 0,
             "ticks": ""
            },
            "colorscale": [
             [
              0,
              "#0d0887"
             ],
             [
              0.1111111111111111,
              "#46039f"
             ],
             [
              0.2222222222222222,
              "#7201a8"
             ],
             [
              0.3333333333333333,
              "#9c179e"
             ],
             [
              0.4444444444444444,
              "#bd3786"
             ],
             [
              0.5555555555555556,
              "#d8576b"
             ],
             [
              0.6666666666666666,
              "#ed7953"
             ],
             [
              0.7777777777777778,
              "#fb9f3a"
             ],
             [
              0.8888888888888888,
              "#fdca26"
             ],
             [
              1,
              "#f0f921"
             ]
            ],
            "type": "histogram2dcontour"
           }
          ],
          "mesh3d": [
           {
            "colorbar": {
             "outlinewidth": 0,
             "ticks": ""
            },
            "type": "mesh3d"
           }
          ],
          "parcoords": [
           {
            "line": {
             "colorbar": {
              "outlinewidth": 0,
              "ticks": ""
             }
            },
            "type": "parcoords"
           }
          ],
          "pie": [
           {
            "automargin": true,
            "type": "pie"
           }
          ],
          "scatter": [
           {
            "fillpattern": {
             "fillmode": "overlay",
             "size": 10,
             "solidity": 0.2
            },
            "type": "scatter"
           }
          ],
          "scatter3d": [
           {
            "line": {
             "colorbar": {
              "outlinewidth": 0,
              "ticks": ""
             }
            },
            "marker": {
             "colorbar": {
              "outlinewidth": 0,
              "ticks": ""
             }
            },
            "type": "scatter3d"
           }
          ],
          "scattercarpet": [
           {
            "marker": {
             "colorbar": {
              "outlinewidth": 0,
              "ticks": ""
             }
            },
            "type": "scattercarpet"
           }
          ],
          "scattergeo": [
           {
            "marker": {
             "colorbar": {
              "outlinewidth": 0,
              "ticks": ""
             }
            },
            "type": "scattergeo"
           }
          ],
          "scattergl": [
           {
            "marker": {
             "colorbar": {
              "outlinewidth": 0,
              "ticks": ""
             }
            },
            "type": "scattergl"
           }
          ],
          "scattermap": [
           {
            "marker": {
             "colorbar": {
              "outlinewidth": 0,
              "ticks": ""
             }
            },
            "type": "scattermap"
           }
          ],
          "scattermapbox": [
           {
            "marker": {
             "colorbar": {
              "outlinewidth": 0,
              "ticks": ""
             }
            },
            "type": "scattermapbox"
           }
          ],
          "scatterpolar": [
           {
            "marker": {
             "colorbar": {
              "outlinewidth": 0,
              "ticks": ""
             }
            },
            "type": "scatterpolar"
           }
          ],
          "scatterpolargl": [
           {
            "marker": {
             "colorbar": {
              "outlinewidth": 0,
              "ticks": ""
             }
            },
            "type": "scatterpolargl"
           }
          ],
          "scatterternary": [
           {
            "marker": {
             "colorbar": {
              "outlinewidth": 0,
              "ticks": ""
             }
            },
            "type": "scatterternary"
           }
          ],
          "surface": [
           {
            "colorbar": {
             "outlinewidth": 0,
             "ticks": ""
            },
            "colorscale": [
             [
              0,
              "#0d0887"
             ],
             [
              0.1111111111111111,
              "#46039f"
             ],
             [
              0.2222222222222222,
              "#7201a8"
             ],
             [
              0.3333333333333333,
              "#9c179e"
             ],
             [
              0.4444444444444444,
              "#bd3786"
             ],
             [
              0.5555555555555556,
              "#d8576b"
             ],
             [
              0.6666666666666666,
              "#ed7953"
             ],
             [
              0.7777777777777778,
              "#fb9f3a"
             ],
             [
              0.8888888888888888,
              "#fdca26"
             ],
             [
              1,
              "#f0f921"
             ]
            ],
            "type": "surface"
           }
          ],
          "table": [
           {
            "cells": {
             "fill": {
              "color": "#EBF0F8"
             },
             "line": {
              "color": "white"
             }
            },
            "header": {
             "fill": {
              "color": "#C8D4E3"
             },
             "line": {
              "color": "white"
             }
            },
            "type": "table"
           }
          ]
         },
         "layout": {
          "annotationdefaults": {
           "arrowcolor": "#2a3f5f",
           "arrowhead": 0,
           "arrowwidth": 1
          },
          "autotypenumbers": "strict",
          "coloraxis": {
           "colorbar": {
            "outlinewidth": 0,
            "ticks": ""
           }
          },
          "colorscale": {
           "diverging": [
            [
             0,
             "#8e0152"
            ],
            [
             0.1,
             "#c51b7d"
            ],
            [
             0.2,
             "#de77ae"
            ],
            [
             0.3,
             "#f1b6da"
            ],
            [
             0.4,
             "#fde0ef"
            ],
            [
             0.5,
             "#f7f7f7"
            ],
            [
             0.6,
             "#e6f5d0"
            ],
            [
             0.7,
             "#b8e186"
            ],
            [
             0.8,
             "#7fbc41"
            ],
            [
             0.9,
             "#4d9221"
            ],
            [
             1,
             "#276419"
            ]
           ],
           "sequential": [
            [
             0,
             "#0d0887"
            ],
            [
             0.1111111111111111,
             "#46039f"
            ],
            [
             0.2222222222222222,
             "#7201a8"
            ],
            [
             0.3333333333333333,
             "#9c179e"
            ],
            [
             0.4444444444444444,
             "#bd3786"
            ],
            [
             0.5555555555555556,
             "#d8576b"
            ],
            [
             0.6666666666666666,
             "#ed7953"
            ],
            [
             0.7777777777777778,
             "#fb9f3a"
            ],
            [
             0.8888888888888888,
             "#fdca26"
            ],
            [
             1,
             "#f0f921"
            ]
           ],
           "sequentialminus": [
            [
             0,
             "#0d0887"
            ],
            [
             0.1111111111111111,
             "#46039f"
            ],
            [
             0.2222222222222222,
             "#7201a8"
            ],
            [
             0.3333333333333333,
             "#9c179e"
            ],
            [
             0.4444444444444444,
             "#bd3786"
            ],
            [
             0.5555555555555556,
             "#d8576b"
            ],
            [
             0.6666666666666666,
             "#ed7953"
            ],
            [
             0.7777777777777778,
             "#fb9f3a"
            ],
            [
             0.8888888888888888,
             "#fdca26"
            ],
            [
             1,
             "#f0f921"
            ]
           ]
          },
          "colorway": [
           "#636efa",
           "#EF553B",
           "#00cc96",
           "#ab63fa",
           "#FFA15A",
           "#19d3f3",
           "#FF6692",
           "#B6E880",
           "#FF97FF",
           "#FECB52"
          ],
          "font": {
           "color": "#2a3f5f"
          },
          "geo": {
           "bgcolor": "white",
           "lakecolor": "white",
           "landcolor": "#E5ECF6",
           "showlakes": true,
           "showland": true,
           "subunitcolor": "white"
          },
          "hoverlabel": {
           "align": "left"
          },
          "hovermode": "closest",
          "mapbox": {
           "style": "light"
          },
          "paper_bgcolor": "white",
          "plot_bgcolor": "#E5ECF6",
          "polar": {
           "angularaxis": {
            "gridcolor": "white",
            "linecolor": "white",
            "ticks": ""
           },
           "bgcolor": "#E5ECF6",
           "radialaxis": {
            "gridcolor": "white",
            "linecolor": "white",
            "ticks": ""
           }
          },
          "scene": {
           "xaxis": {
            "backgroundcolor": "#E5ECF6",
            "gridcolor": "white",
            "gridwidth": 2,
            "linecolor": "white",
            "showbackground": true,
            "ticks": "",
            "zerolinecolor": "white"
           },
           "yaxis": {
            "backgroundcolor": "#E5ECF6",
            "gridcolor": "white",
            "gridwidth": 2,
            "linecolor": "white",
            "showbackground": true,
            "ticks": "",
            "zerolinecolor": "white"
           },
           "zaxis": {
            "backgroundcolor": "#E5ECF6",
            "gridcolor": "white",
            "gridwidth": 2,
            "linecolor": "white",
            "showbackground": true,
            "ticks": "",
            "zerolinecolor": "white"
           }
          },
          "shapedefaults": {
           "line": {
            "color": "#2a3f5f"
           }
          },
          "ternary": {
           "aaxis": {
            "gridcolor": "white",
            "linecolor": "white",
            "ticks": ""
           },
           "baxis": {
            "gridcolor": "white",
            "linecolor": "white",
            "ticks": ""
           },
           "bgcolor": "#E5ECF6",
           "caxis": {
            "gridcolor": "white",
            "linecolor": "white",
            "ticks": ""
           }
          },
          "title": {
           "x": 0.05
          },
          "xaxis": {
           "automargin": true,
           "gridcolor": "white",
           "linecolor": "white",
           "ticks": "",
           "title": {
            "standoff": 15
           },
           "zerolinecolor": "white",
           "zerolinewidth": 2
          },
          "yaxis": {
           "automargin": true,
           "gridcolor": "white",
           "linecolor": "white",
           "ticks": "",
           "title": {
            "standoff": 15
           },
           "zerolinecolor": "white",
           "zerolinewidth": 2
          }
         }
        },
        "title": {
         "text": "Распределение количества часов сна в день по полу",
         "x": 0.5
        },
        "xaxis": {
         "anchor": "y",
         "domain": [
          0,
          0.3
         ],
         "showgrid": true,
         "title": {
          "text": "sleep_hours"
         }
        },
        "xaxis2": {
         "anchor": "y2",
         "domain": [
          0.35,
          0.6499999999999999
         ],
         "showgrid": true,
         "title": {
          "text": "sleep_hours"
         }
        },
        "xaxis3": {
         "anchor": "y3",
         "domain": [
          0.7,
          1
         ],
         "showgrid": true,
         "title": {
          "text": "sleep_hours"
         }
        },
        "yaxis": {
         "anchor": "x",
         "domain": [
          0,
          1
         ],
         "showgrid": true,
         "title": {
          "text": "Количество студентов"
         }
        },
        "yaxis2": {
         "anchor": "x2",
         "domain": [
          0,
          1
         ],
         "showgrid": true,
         "showticklabels": false
        },
        "yaxis3": {
         "anchor": "x3",
         "domain": [
          0,
          1
         ],
         "showgrid": true,
         "showticklabels": false
        }
       }
      }
     },
     "metadata": {},
     "output_type": "display_data"
    }
   ],
   "source": [
    "\n",
    "fig6 = px.histogram(\n",
    "    df, \n",
    "    x='sleep_hours',\n",
    "    facet_col='gender',\n",
    "    color='gender',   \n",
    "    opacity=0.7,   \n",
    "    barmode='overlay',  \n",
    "    facet_col_spacing=0.05, \n",
    ")\n",
    "\n",
    "fig6.update_layout(\n",
    "    title={\n",
    "        'text': 'Распределение количества часов сна в день по полу',\n",
    "        'x': 0.5,\n",
    "    },\n",
    "    legend = {'title': 'Пол студента'},\n",
    "    yaxis_title='Количество студентов',\n",
    "    showlegend=True,  \n",
    "    plot_bgcolor='white', \n",
    "    bargap=0.1,\n",
    ")\n",
    "\n",
    "\n",
    "fig6.for_each_annotation(lambda a: a.update(text=a.text.split(\"=\")[-1]))\n",
    "\n",
    "fig6.update_xaxes(matches=None, showgrid=True)\n",
    "fig6.update_yaxes(matches=None, showgrid=True)\n",
    "\n",
    "\n",
    "fig6.show()"
   ]
  },
  {
   "cell_type": "markdown",
   "id": "048716ba",
   "metadata": {},
   "source": [
    "## Гипотеза 1 -- уровень успеваемости у работающих/неработающих студентов отличается (двусторонний тест)"
   ]
  },
  {
   "cell_type": "markdown",
   "id": "f414a0d4",
   "metadata": {},
   "source": [
    "### Статистический анализ (основная часть)"
   ]
  },
  {
   "cell_type": "markdown",
   "id": "c3558739",
   "metadata": {},
   "source": [
    "#### (a) Вычисление точечных оценок"
   ]
  },
  {
   "cell_type": "markdown",
   "id": "1136733d",
   "metadata": {},
   "source": [
    "Сделаем равное разбиение по стратам (работающие/неработающие студенты) на выборку из 30 человек"
   ]
  },
  {
   "cell_type": "code",
   "execution_count": 97,
   "id": "74178d50",
   "metadata": {},
   "outputs": [
    {
     "data": {
      "text/html": [
       "<div>\n",
       "<style scoped>\n",
       "    .dataframe tbody tr th:only-of-type {\n",
       "        vertical-align: middle;\n",
       "    }\n",
       "\n",
       "    .dataframe tbody tr th {\n",
       "        vertical-align: top;\n",
       "    }\n",
       "\n",
       "    .dataframe thead th {\n",
       "        text-align: right;\n",
       "    }\n",
       "</style>\n",
       "<table border=\"1\" class=\"dataframe\">\n",
       "  <thead>\n",
       "    <tr style=\"text-align: right;\">\n",
       "      <th></th>\n",
       "      <th>student_id</th>\n",
       "      <th>age</th>\n",
       "      <th>gender</th>\n",
       "      <th>study_hours_per_day</th>\n",
       "      <th>social_media_hours</th>\n",
       "      <th>netflix_hours</th>\n",
       "      <th>part_time_job</th>\n",
       "      <th>attendance_percentage</th>\n",
       "      <th>sleep_hours</th>\n",
       "      <th>diet_quality</th>\n",
       "      <th>exercise_frequency</th>\n",
       "      <th>parental_education_level</th>\n",
       "      <th>internet_quality</th>\n",
       "      <th>mental_health_rating</th>\n",
       "      <th>extracurricular_participation</th>\n",
       "      <th>exam_score</th>\n",
       "    </tr>\n",
       "  </thead>\n",
       "  <tbody>\n",
       "    <tr>\n",
       "      <th>945</th>\n",
       "      <td>S1945</td>\n",
       "      <td>23</td>\n",
       "      <td>Male</td>\n",
       "      <td>6.0</td>\n",
       "      <td>2.9</td>\n",
       "      <td>2.1</td>\n",
       "      <td>Yes</td>\n",
       "      <td>98.9</td>\n",
       "      <td>6.4</td>\n",
       "      <td>Poor</td>\n",
       "      <td>0</td>\n",
       "      <td>NaN</td>\n",
       "      <td>Average</td>\n",
       "      <td>7</td>\n",
       "      <td>No</td>\n",
       "      <td>100.0</td>\n",
       "    </tr>\n",
       "    <tr>\n",
       "      <th>989</th>\n",
       "      <td>S1989</td>\n",
       "      <td>24</td>\n",
       "      <td>Male</td>\n",
       "      <td>1.0</td>\n",
       "      <td>1.4</td>\n",
       "      <td>2.1</td>\n",
       "      <td>Yes</td>\n",
       "      <td>76.4</td>\n",
       "      <td>4.9</td>\n",
       "      <td>Fair</td>\n",
       "      <td>3</td>\n",
       "      <td>High School</td>\n",
       "      <td>Average</td>\n",
       "      <td>6</td>\n",
       "      <td>No</td>\n",
       "      <td>47.6</td>\n",
       "    </tr>\n",
       "    <tr>\n",
       "      <th>690</th>\n",
       "      <td>S1690</td>\n",
       "      <td>18</td>\n",
       "      <td>Male</td>\n",
       "      <td>2.5</td>\n",
       "      <td>1.8</td>\n",
       "      <td>1.2</td>\n",
       "      <td>Yes</td>\n",
       "      <td>88.3</td>\n",
       "      <td>6.9</td>\n",
       "      <td>Fair</td>\n",
       "      <td>1</td>\n",
       "      <td>High School</td>\n",
       "      <td>Average</td>\n",
       "      <td>6</td>\n",
       "      <td>No</td>\n",
       "      <td>70.5</td>\n",
       "    </tr>\n",
       "    <tr>\n",
       "      <th>869</th>\n",
       "      <td>S1869</td>\n",
       "      <td>22</td>\n",
       "      <td>Male</td>\n",
       "      <td>2.8</td>\n",
       "      <td>2.5</td>\n",
       "      <td>2.7</td>\n",
       "      <td>Yes</td>\n",
       "      <td>86.4</td>\n",
       "      <td>6.3</td>\n",
       "      <td>Fair</td>\n",
       "      <td>4</td>\n",
       "      <td>Master</td>\n",
       "      <td>Average</td>\n",
       "      <td>10</td>\n",
       "      <td>No</td>\n",
       "      <td>74.6</td>\n",
       "    </tr>\n",
       "    <tr>\n",
       "      <th>63</th>\n",
       "      <td>S1063</td>\n",
       "      <td>17</td>\n",
       "      <td>Male</td>\n",
       "      <td>4.1</td>\n",
       "      <td>2.3</td>\n",
       "      <td>2.6</td>\n",
       "      <td>Yes</td>\n",
       "      <td>76.5</td>\n",
       "      <td>5.1</td>\n",
       "      <td>Fair</td>\n",
       "      <td>3</td>\n",
       "      <td>Bachelor</td>\n",
       "      <td>Average</td>\n",
       "      <td>9</td>\n",
       "      <td>No</td>\n",
       "      <td>77.6</td>\n",
       "    </tr>\n",
       "    <tr>\n",
       "      <th>541</th>\n",
       "      <td>S1541</td>\n",
       "      <td>18</td>\n",
       "      <td>Female</td>\n",
       "      <td>4.2</td>\n",
       "      <td>3.8</td>\n",
       "      <td>3.4</td>\n",
       "      <td>Yes</td>\n",
       "      <td>84.8</td>\n",
       "      <td>5.4</td>\n",
       "      <td>Good</td>\n",
       "      <td>2</td>\n",
       "      <td>High School</td>\n",
       "      <td>Good</td>\n",
       "      <td>5</td>\n",
       "      <td>No</td>\n",
       "      <td>67.4</td>\n",
       "    </tr>\n",
       "    <tr>\n",
       "      <th>840</th>\n",
       "      <td>S1840</td>\n",
       "      <td>23</td>\n",
       "      <td>Male</td>\n",
       "      <td>2.5</td>\n",
       "      <td>0.2</td>\n",
       "      <td>0.9</td>\n",
       "      <td>Yes</td>\n",
       "      <td>89.5</td>\n",
       "      <td>7.5</td>\n",
       "      <td>Good</td>\n",
       "      <td>3</td>\n",
       "      <td>High School</td>\n",
       "      <td>Good</td>\n",
       "      <td>6</td>\n",
       "      <td>Yes</td>\n",
       "      <td>80.0</td>\n",
       "    </tr>\n",
       "    <tr>\n",
       "      <th>371</th>\n",
       "      <td>S1371</td>\n",
       "      <td>24</td>\n",
       "      <td>Male</td>\n",
       "      <td>0.8</td>\n",
       "      <td>1.4</td>\n",
       "      <td>3.8</td>\n",
       "      <td>Yes</td>\n",
       "      <td>76.5</td>\n",
       "      <td>7.5</td>\n",
       "      <td>Good</td>\n",
       "      <td>2</td>\n",
       "      <td>Bachelor</td>\n",
       "      <td>Average</td>\n",
       "      <td>10</td>\n",
       "      <td>No</td>\n",
       "      <td>36.0</td>\n",
       "    </tr>\n",
       "    <tr>\n",
       "      <th>958</th>\n",
       "      <td>S1958</td>\n",
       "      <td>18</td>\n",
       "      <td>Male</td>\n",
       "      <td>0.0</td>\n",
       "      <td>3.8</td>\n",
       "      <td>1.3</td>\n",
       "      <td>Yes</td>\n",
       "      <td>89.5</td>\n",
       "      <td>5.7</td>\n",
       "      <td>Good</td>\n",
       "      <td>5</td>\n",
       "      <td>High School</td>\n",
       "      <td>Average</td>\n",
       "      <td>5</td>\n",
       "      <td>No</td>\n",
       "      <td>31.1</td>\n",
       "    </tr>\n",
       "    <tr>\n",
       "      <th>703</th>\n",
       "      <td>S1703</td>\n",
       "      <td>24</td>\n",
       "      <td>Male</td>\n",
       "      <td>0.9</td>\n",
       "      <td>3.3</td>\n",
       "      <td>1.6</td>\n",
       "      <td>Yes</td>\n",
       "      <td>87.3</td>\n",
       "      <td>6.5</td>\n",
       "      <td>Poor</td>\n",
       "      <td>6</td>\n",
       "      <td>Bachelor</td>\n",
       "      <td>Good</td>\n",
       "      <td>5</td>\n",
       "      <td>No</td>\n",
       "      <td>37.9</td>\n",
       "    </tr>\n",
       "    <tr>\n",
       "      <th>774</th>\n",
       "      <td>S1774</td>\n",
       "      <td>18</td>\n",
       "      <td>Female</td>\n",
       "      <td>7.5</td>\n",
       "      <td>3.6</td>\n",
       "      <td>1.9</td>\n",
       "      <td>Yes</td>\n",
       "      <td>85.9</td>\n",
       "      <td>7.8</td>\n",
       "      <td>Fair</td>\n",
       "      <td>6</td>\n",
       "      <td>Bachelor</td>\n",
       "      <td>Average</td>\n",
       "      <td>3</td>\n",
       "      <td>No</td>\n",
       "      <td>100.0</td>\n",
       "    </tr>\n",
       "    <tr>\n",
       "      <th>169</th>\n",
       "      <td>S1169</td>\n",
       "      <td>22</td>\n",
       "      <td>Male</td>\n",
       "      <td>4.4</td>\n",
       "      <td>3.5</td>\n",
       "      <td>2.7</td>\n",
       "      <td>Yes</td>\n",
       "      <td>87.0</td>\n",
       "      <td>7.8</td>\n",
       "      <td>Fair</td>\n",
       "      <td>2</td>\n",
       "      <td>Bachelor</td>\n",
       "      <td>Good</td>\n",
       "      <td>1</td>\n",
       "      <td>No</td>\n",
       "      <td>62.4</td>\n",
       "    </tr>\n",
       "    <tr>\n",
       "      <th>896</th>\n",
       "      <td>S1896</td>\n",
       "      <td>22</td>\n",
       "      <td>Male</td>\n",
       "      <td>2.8</td>\n",
       "      <td>1.8</td>\n",
       "      <td>3.4</td>\n",
       "      <td>Yes</td>\n",
       "      <td>74.0</td>\n",
       "      <td>5.1</td>\n",
       "      <td>Good</td>\n",
       "      <td>6</td>\n",
       "      <td>High School</td>\n",
       "      <td>Average</td>\n",
       "      <td>5</td>\n",
       "      <td>No</td>\n",
       "      <td>58.4</td>\n",
       "    </tr>\n",
       "    <tr>\n",
       "      <th>31</th>\n",
       "      <td>S1031</td>\n",
       "      <td>17</td>\n",
       "      <td>Other</td>\n",
       "      <td>1.5</td>\n",
       "      <td>3.1</td>\n",
       "      <td>2.6</td>\n",
       "      <td>Yes</td>\n",
       "      <td>96.2</td>\n",
       "      <td>8.0</td>\n",
       "      <td>Fair</td>\n",
       "      <td>4</td>\n",
       "      <td>Bachelor</td>\n",
       "      <td>Average</td>\n",
       "      <td>3</td>\n",
       "      <td>Yes</td>\n",
       "      <td>51.3</td>\n",
       "    </tr>\n",
       "    <tr>\n",
       "      <th>356</th>\n",
       "      <td>S1356</td>\n",
       "      <td>18</td>\n",
       "      <td>Male</td>\n",
       "      <td>5.8</td>\n",
       "      <td>2.6</td>\n",
       "      <td>0.9</td>\n",
       "      <td>Yes</td>\n",
       "      <td>70.0</td>\n",
       "      <td>7.1</td>\n",
       "      <td>Good</td>\n",
       "      <td>6</td>\n",
       "      <td>High School</td>\n",
       "      <td>Average</td>\n",
       "      <td>8</td>\n",
       "      <td>No</td>\n",
       "      <td>100.0</td>\n",
       "    </tr>\n",
       "    <tr>\n",
       "      <th>956</th>\n",
       "      <td>S1956</td>\n",
       "      <td>20</td>\n",
       "      <td>Female</td>\n",
       "      <td>3.2</td>\n",
       "      <td>2.3</td>\n",
       "      <td>1.5</td>\n",
       "      <td>No</td>\n",
       "      <td>71.0</td>\n",
       "      <td>5.0</td>\n",
       "      <td>Good</td>\n",
       "      <td>6</td>\n",
       "      <td>High School</td>\n",
       "      <td>Good</td>\n",
       "      <td>3</td>\n",
       "      <td>No</td>\n",
       "      <td>59.6</td>\n",
       "    </tr>\n",
       "    <tr>\n",
       "      <th>51</th>\n",
       "      <td>S1051</td>\n",
       "      <td>22</td>\n",
       "      <td>Female</td>\n",
       "      <td>2.5</td>\n",
       "      <td>3.2</td>\n",
       "      <td>0.5</td>\n",
       "      <td>No</td>\n",
       "      <td>85.7</td>\n",
       "      <td>6.5</td>\n",
       "      <td>Poor</td>\n",
       "      <td>0</td>\n",
       "      <td>High School</td>\n",
       "      <td>Average</td>\n",
       "      <td>5</td>\n",
       "      <td>No</td>\n",
       "      <td>59.7</td>\n",
       "    </tr>\n",
       "    <tr>\n",
       "      <th>256</th>\n",
       "      <td>S1256</td>\n",
       "      <td>23</td>\n",
       "      <td>Female</td>\n",
       "      <td>3.6</td>\n",
       "      <td>3.2</td>\n",
       "      <td>2.7</td>\n",
       "      <td>No</td>\n",
       "      <td>90.6</td>\n",
       "      <td>5.7</td>\n",
       "      <td>Good</td>\n",
       "      <td>0</td>\n",
       "      <td>Bachelor</td>\n",
       "      <td>Good</td>\n",
       "      <td>6</td>\n",
       "      <td>No</td>\n",
       "      <td>64.5</td>\n",
       "    </tr>\n",
       "    <tr>\n",
       "      <th>240</th>\n",
       "      <td>S1240</td>\n",
       "      <td>18</td>\n",
       "      <td>Male</td>\n",
       "      <td>1.9</td>\n",
       "      <td>1.6</td>\n",
       "      <td>2.3</td>\n",
       "      <td>No</td>\n",
       "      <td>72.0</td>\n",
       "      <td>6.3</td>\n",
       "      <td>Fair</td>\n",
       "      <td>6</td>\n",
       "      <td>Master</td>\n",
       "      <td>Poor</td>\n",
       "      <td>3</td>\n",
       "      <td>No</td>\n",
       "      <td>51.2</td>\n",
       "    </tr>\n",
       "    <tr>\n",
       "      <th>291</th>\n",
       "      <td>S1291</td>\n",
       "      <td>19</td>\n",
       "      <td>Female</td>\n",
       "      <td>6.1</td>\n",
       "      <td>1.5</td>\n",
       "      <td>0.4</td>\n",
       "      <td>No</td>\n",
       "      <td>89.2</td>\n",
       "      <td>7.0</td>\n",
       "      <td>Poor</td>\n",
       "      <td>1</td>\n",
       "      <td>Bachelor</td>\n",
       "      <td>Average</td>\n",
       "      <td>9</td>\n",
       "      <td>No</td>\n",
       "      <td>100.0</td>\n",
       "    </tr>\n",
       "    <tr>\n",
       "      <th>260</th>\n",
       "      <td>S1260</td>\n",
       "      <td>17</td>\n",
       "      <td>Male</td>\n",
       "      <td>4.3</td>\n",
       "      <td>3.8</td>\n",
       "      <td>1.1</td>\n",
       "      <td>No</td>\n",
       "      <td>95.3</td>\n",
       "      <td>4.8</td>\n",
       "      <td>Fair</td>\n",
       "      <td>1</td>\n",
       "      <td>High School</td>\n",
       "      <td>Average</td>\n",
       "      <td>8</td>\n",
       "      <td>No</td>\n",
       "      <td>70.9</td>\n",
       "    </tr>\n",
       "    <tr>\n",
       "      <th>682</th>\n",
       "      <td>S1682</td>\n",
       "      <td>23</td>\n",
       "      <td>Female</td>\n",
       "      <td>2.7</td>\n",
       "      <td>4.3</td>\n",
       "      <td>2.9</td>\n",
       "      <td>No</td>\n",
       "      <td>88.9</td>\n",
       "      <td>4.8</td>\n",
       "      <td>Poor</td>\n",
       "      <td>4</td>\n",
       "      <td>NaN</td>\n",
       "      <td>Average</td>\n",
       "      <td>8</td>\n",
       "      <td>No</td>\n",
       "      <td>53.4</td>\n",
       "    </tr>\n",
       "    <tr>\n",
       "      <th>754</th>\n",
       "      <td>S1754</td>\n",
       "      <td>18</td>\n",
       "      <td>Female</td>\n",
       "      <td>0.8</td>\n",
       "      <td>3.3</td>\n",
       "      <td>0.2</td>\n",
       "      <td>No</td>\n",
       "      <td>85.7</td>\n",
       "      <td>7.1</td>\n",
       "      <td>Good</td>\n",
       "      <td>4</td>\n",
       "      <td>Bachelor</td>\n",
       "      <td>Poor</td>\n",
       "      <td>9</td>\n",
       "      <td>No</td>\n",
       "      <td>51.8</td>\n",
       "    </tr>\n",
       "    <tr>\n",
       "      <th>373</th>\n",
       "      <td>S1373</td>\n",
       "      <td>24</td>\n",
       "      <td>Male</td>\n",
       "      <td>3.3</td>\n",
       "      <td>1.4</td>\n",
       "      <td>0.4</td>\n",
       "      <td>No</td>\n",
       "      <td>75.2</td>\n",
       "      <td>6.5</td>\n",
       "      <td>Poor</td>\n",
       "      <td>0</td>\n",
       "      <td>Bachelor</td>\n",
       "      <td>Good</td>\n",
       "      <td>7</td>\n",
       "      <td>Yes</td>\n",
       "      <td>72.9</td>\n",
       "    </tr>\n",
       "    <tr>\n",
       "      <th>166</th>\n",
       "      <td>S1166</td>\n",
       "      <td>24</td>\n",
       "      <td>Male</td>\n",
       "      <td>2.1</td>\n",
       "      <td>1.2</td>\n",
       "      <td>1.8</td>\n",
       "      <td>No</td>\n",
       "      <td>87.5</td>\n",
       "      <td>5.1</td>\n",
       "      <td>Fair</td>\n",
       "      <td>1</td>\n",
       "      <td>High School</td>\n",
       "      <td>Average</td>\n",
       "      <td>7</td>\n",
       "      <td>No</td>\n",
       "      <td>66.7</td>\n",
       "    </tr>\n",
       "    <tr>\n",
       "      <th>405</th>\n",
       "      <td>S1405</td>\n",
       "      <td>20</td>\n",
       "      <td>Female</td>\n",
       "      <td>3.1</td>\n",
       "      <td>2.0</td>\n",
       "      <td>1.9</td>\n",
       "      <td>No</td>\n",
       "      <td>89.3</td>\n",
       "      <td>6.4</td>\n",
       "      <td>Good</td>\n",
       "      <td>2</td>\n",
       "      <td>High School</td>\n",
       "      <td>Good</td>\n",
       "      <td>10</td>\n",
       "      <td>Yes</td>\n",
       "      <td>65.4</td>\n",
       "    </tr>\n",
       "    <tr>\n",
       "      <th>265</th>\n",
       "      <td>S1265</td>\n",
       "      <td>18</td>\n",
       "      <td>Female</td>\n",
       "      <td>0.6</td>\n",
       "      <td>3.1</td>\n",
       "      <td>3.0</td>\n",
       "      <td>No</td>\n",
       "      <td>79.9</td>\n",
       "      <td>5.2</td>\n",
       "      <td>Good</td>\n",
       "      <td>1</td>\n",
       "      <td>Bachelor</td>\n",
       "      <td>Good</td>\n",
       "      <td>4</td>\n",
       "      <td>No</td>\n",
       "      <td>18.4</td>\n",
       "    </tr>\n",
       "    <tr>\n",
       "      <th>213</th>\n",
       "      <td>S1213</td>\n",
       "      <td>23</td>\n",
       "      <td>Male</td>\n",
       "      <td>1.1</td>\n",
       "      <td>3.1</td>\n",
       "      <td>3.8</td>\n",
       "      <td>No</td>\n",
       "      <td>88.3</td>\n",
       "      <td>6.8</td>\n",
       "      <td>Good</td>\n",
       "      <td>6</td>\n",
       "      <td>Bachelor</td>\n",
       "      <td>Poor</td>\n",
       "      <td>6</td>\n",
       "      <td>No</td>\n",
       "      <td>45.5</td>\n",
       "    </tr>\n",
       "    <tr>\n",
       "      <th>633</th>\n",
       "      <td>S1633</td>\n",
       "      <td>17</td>\n",
       "      <td>Male</td>\n",
       "      <td>4.5</td>\n",
       "      <td>1.4</td>\n",
       "      <td>1.5</td>\n",
       "      <td>No</td>\n",
       "      <td>75.0</td>\n",
       "      <td>8.0</td>\n",
       "      <td>Good</td>\n",
       "      <td>2</td>\n",
       "      <td>Master</td>\n",
       "      <td>Good</td>\n",
       "      <td>2</td>\n",
       "      <td>Yes</td>\n",
       "      <td>83.7</td>\n",
       "    </tr>\n",
       "    <tr>\n",
       "      <th>205</th>\n",
       "      <td>S1205</td>\n",
       "      <td>21</td>\n",
       "      <td>Other</td>\n",
       "      <td>3.3</td>\n",
       "      <td>4.3</td>\n",
       "      <td>3.9</td>\n",
       "      <td>No</td>\n",
       "      <td>90.4</td>\n",
       "      <td>6.4</td>\n",
       "      <td>Fair</td>\n",
       "      <td>0</td>\n",
       "      <td>High School</td>\n",
       "      <td>Good</td>\n",
       "      <td>4</td>\n",
       "      <td>No</td>\n",
       "      <td>56.4</td>\n",
       "    </tr>\n",
       "  </tbody>\n",
       "</table>\n",
       "</div>"
      ],
      "text/plain": [
       "    student_id  age  gender  study_hours_per_day  social_media_hours  \\\n",
       "945      S1945   23    Male                  6.0                 2.9   \n",
       "989      S1989   24    Male                  1.0                 1.4   \n",
       "690      S1690   18    Male                  2.5                 1.8   \n",
       "869      S1869   22    Male                  2.8                 2.5   \n",
       "63       S1063   17    Male                  4.1                 2.3   \n",
       "541      S1541   18  Female                  4.2                 3.8   \n",
       "840      S1840   23    Male                  2.5                 0.2   \n",
       "371      S1371   24    Male                  0.8                 1.4   \n",
       "958      S1958   18    Male                  0.0                 3.8   \n",
       "703      S1703   24    Male                  0.9                 3.3   \n",
       "774      S1774   18  Female                  7.5                 3.6   \n",
       "169      S1169   22    Male                  4.4                 3.5   \n",
       "896      S1896   22    Male                  2.8                 1.8   \n",
       "31       S1031   17   Other                  1.5                 3.1   \n",
       "356      S1356   18    Male                  5.8                 2.6   \n",
       "956      S1956   20  Female                  3.2                 2.3   \n",
       "51       S1051   22  Female                  2.5                 3.2   \n",
       "256      S1256   23  Female                  3.6                 3.2   \n",
       "240      S1240   18    Male                  1.9                 1.6   \n",
       "291      S1291   19  Female                  6.1                 1.5   \n",
       "260      S1260   17    Male                  4.3                 3.8   \n",
       "682      S1682   23  Female                  2.7                 4.3   \n",
       "754      S1754   18  Female                  0.8                 3.3   \n",
       "373      S1373   24    Male                  3.3                 1.4   \n",
       "166      S1166   24    Male                  2.1                 1.2   \n",
       "405      S1405   20  Female                  3.1                 2.0   \n",
       "265      S1265   18  Female                  0.6                 3.1   \n",
       "213      S1213   23    Male                  1.1                 3.1   \n",
       "633      S1633   17    Male                  4.5                 1.4   \n",
       "205      S1205   21   Other                  3.3                 4.3   \n",
       "\n",
       "     netflix_hours part_time_job  attendance_percentage  sleep_hours  \\\n",
       "945            2.1           Yes                   98.9          6.4   \n",
       "989            2.1           Yes                   76.4          4.9   \n",
       "690            1.2           Yes                   88.3          6.9   \n",
       "869            2.7           Yes                   86.4          6.3   \n",
       "63             2.6           Yes                   76.5          5.1   \n",
       "541            3.4           Yes                   84.8          5.4   \n",
       "840            0.9           Yes                   89.5          7.5   \n",
       "371            3.8           Yes                   76.5          7.5   \n",
       "958            1.3           Yes                   89.5          5.7   \n",
       "703            1.6           Yes                   87.3          6.5   \n",
       "774            1.9           Yes                   85.9          7.8   \n",
       "169            2.7           Yes                   87.0          7.8   \n",
       "896            3.4           Yes                   74.0          5.1   \n",
       "31             2.6           Yes                   96.2          8.0   \n",
       "356            0.9           Yes                   70.0          7.1   \n",
       "956            1.5            No                   71.0          5.0   \n",
       "51             0.5            No                   85.7          6.5   \n",
       "256            2.7            No                   90.6          5.7   \n",
       "240            2.3            No                   72.0          6.3   \n",
       "291            0.4            No                   89.2          7.0   \n",
       "260            1.1            No                   95.3          4.8   \n",
       "682            2.9            No                   88.9          4.8   \n",
       "754            0.2            No                   85.7          7.1   \n",
       "373            0.4            No                   75.2          6.5   \n",
       "166            1.8            No                   87.5          5.1   \n",
       "405            1.9            No                   89.3          6.4   \n",
       "265            3.0            No                   79.9          5.2   \n",
       "213            3.8            No                   88.3          6.8   \n",
       "633            1.5            No                   75.0          8.0   \n",
       "205            3.9            No                   90.4          6.4   \n",
       "\n",
       "    diet_quality  exercise_frequency parental_education_level  \\\n",
       "945         Poor                   0                      NaN   \n",
       "989         Fair                   3              High School   \n",
       "690         Fair                   1              High School   \n",
       "869         Fair                   4                   Master   \n",
       "63          Fair                   3                 Bachelor   \n",
       "541         Good                   2              High School   \n",
       "840         Good                   3              High School   \n",
       "371         Good                   2                 Bachelor   \n",
       "958         Good                   5              High School   \n",
       "703         Poor                   6                 Bachelor   \n",
       "774         Fair                   6                 Bachelor   \n",
       "169         Fair                   2                 Bachelor   \n",
       "896         Good                   6              High School   \n",
       "31          Fair                   4                 Bachelor   \n",
       "356         Good                   6              High School   \n",
       "956         Good                   6              High School   \n",
       "51          Poor                   0              High School   \n",
       "256         Good                   0                 Bachelor   \n",
       "240         Fair                   6                   Master   \n",
       "291         Poor                   1                 Bachelor   \n",
       "260         Fair                   1              High School   \n",
       "682         Poor                   4                      NaN   \n",
       "754         Good                   4                 Bachelor   \n",
       "373         Poor                   0                 Bachelor   \n",
       "166         Fair                   1              High School   \n",
       "405         Good                   2              High School   \n",
       "265         Good                   1                 Bachelor   \n",
       "213         Good                   6                 Bachelor   \n",
       "633         Good                   2                   Master   \n",
       "205         Fair                   0              High School   \n",
       "\n",
       "    internet_quality  mental_health_rating extracurricular_participation  \\\n",
       "945          Average                     7                            No   \n",
       "989          Average                     6                            No   \n",
       "690          Average                     6                            No   \n",
       "869          Average                    10                            No   \n",
       "63           Average                     9                            No   \n",
       "541             Good                     5                            No   \n",
       "840             Good                     6                           Yes   \n",
       "371          Average                    10                            No   \n",
       "958          Average                     5                            No   \n",
       "703             Good                     5                            No   \n",
       "774          Average                     3                            No   \n",
       "169             Good                     1                            No   \n",
       "896          Average                     5                            No   \n",
       "31           Average                     3                           Yes   \n",
       "356          Average                     8                            No   \n",
       "956             Good                     3                            No   \n",
       "51           Average                     5                            No   \n",
       "256             Good                     6                            No   \n",
       "240             Poor                     3                            No   \n",
       "291          Average                     9                            No   \n",
       "260          Average                     8                            No   \n",
       "682          Average                     8                            No   \n",
       "754             Poor                     9                            No   \n",
       "373             Good                     7                           Yes   \n",
       "166          Average                     7                            No   \n",
       "405             Good                    10                           Yes   \n",
       "265             Good                     4                            No   \n",
       "213             Poor                     6                            No   \n",
       "633             Good                     2                           Yes   \n",
       "205             Good                     4                            No   \n",
       "\n",
       "     exam_score  \n",
       "945       100.0  \n",
       "989        47.6  \n",
       "690        70.5  \n",
       "869        74.6  \n",
       "63         77.6  \n",
       "541        67.4  \n",
       "840        80.0  \n",
       "371        36.0  \n",
       "958        31.1  \n",
       "703        37.9  \n",
       "774       100.0  \n",
       "169        62.4  \n",
       "896        58.4  \n",
       "31         51.3  \n",
       "356       100.0  \n",
       "956        59.6  \n",
       "51         59.7  \n",
       "256        64.5  \n",
       "240        51.2  \n",
       "291       100.0  \n",
       "260        70.9  \n",
       "682        53.4  \n",
       "754        51.8  \n",
       "373        72.9  \n",
       "166        66.7  \n",
       "405        65.4  \n",
       "265        18.4  \n",
       "213        45.5  \n",
       "633        83.7  \n",
       "205        56.4  "
      ]
     },
     "execution_count": 97,
     "metadata": {},
     "output_type": "execute_result"
    }
   ],
   "source": [
    "n = 30\n",
    "\n",
    "working_students = df[df['part_time_job'] == 'Yes']\n",
    "non_working_students = df[df['part_time_job'] == 'No']\n",
    "\n",
    "\n",
    "sample_working = working_students.sample(int(n/2), random_state=42)\n",
    "sample_non_working = non_working_students.sample(int(n / 2), random_state=42)\n",
    "\n",
    "\n",
    "sample = pd.concat([sample_working, sample_non_working])\n",
    "\n",
    "sample"
   ]
  },
  {
   "cell_type": "markdown",
   "id": "df355d81",
   "metadata": {},
   "source": [
    "\n",
    "\n",
    "| **Статистика**               | **Формула**                                                                                                                                 |\n",
    "|-------------------------------|---------------------------------------------------------------------------------------------------------------------------------------------|\n",
    "| **Среднее арифметическое**    | $$\\bar{x} = \\frac{1}{n} \\sum_{i=1}^{n} x_i$$                                                                                               |\n",
    "| **Дисперсия**                 | $$s^2 = \\frac{1}{n-1} \\sum_{i=1}^{n} (x_i - \\bar{x})^2$$                                                                                  |\n",
    "| **Стандартное отклонение**    | $$s = \\sqrt{s^2}$$                                                                                                                         |\n",
    "| **Медиана**                   | $$\\text{Медиана} = \\begin{cases} x_{\\frac{n+1}{2}}, & \\text {если }n \\text{ нечётное} \\\\ \\frac{x_{\\frac{n}{2}} + x_{\\frac{n}{2}+1}}{2}, & \\text{если } n \\text{ чётное} \\end{cases}$$ |\n",
    "| **Мода**                      | $$\\text{Мода} = \\text{самое часто вречающееся значение}$$                                                                                        |\n",
    "| **Минимум**                   | $$\\min(x)$$                                                                                                                                |\n",
    "| **Максимум**                  | $$\\max(x)$$                                                                                                                                |\n",
    "| **Доля работающих студентов** | $$\\text{Доля} = \\left( \\frac{\\text{Число работающих}}{n} \\right) \\times 100\\%$$                                                            |\n"
   ]
  },
  {
   "cell_type": "code",
   "execution_count": 98,
   "id": "ca8ad991",
   "metadata": {},
   "outputs": [
    {
     "name": "stdout",
     "output_type": "stream",
     "text": [
      "\n",
      "Результаты анализа:\n",
      "\n",
      "1. Описательные статистики баллов за экзамен:\n",
      "   - Среднее арифметическое: 63.83\n",
      "   - Дисперсия: 423.06\n",
      "   - Стандартное отклонение: 20.57\n",
      "   - Медиана: 63.45\n",
      "   - Мода: 100.0 (встречается 1 раз)\n",
      "   - Минимум: 18.4\n",
      "   - Максимум: 100.0\n",
      "\n"
     ]
    }
   ],
   "source": [
    "sample_mean = sample['exam_score'].mean()\n",
    "\n",
    "sample_var = sample['exam_score'].var(ddof=1)\n",
    "\n",
    "sample_std = sample['exam_score'].std(ddof = 1)\n",
    "\n",
    "sample_median = sample['exam_score'].median()\n",
    "\n",
    "sample_mode = sample['exam_score'].mode()\n",
    "\n",
    "sample_min = sample['exam_score'].min()\n",
    "\n",
    "sample_max = sample['exam_score'].max()\n",
    "\n",
    "\n",
    "sample_working_students = (len(sample[\n",
    "    sample['part_time_job'] == 'Yes']) / n) * 100\n",
    "\n",
    "\n",
    "print(f\"\"\"\n",
    "Результаты анализа:\n",
    "\n",
    "1. Описательные статистики баллов за экзамен:\n",
    "   - Среднее арифметическое: {sample_mean:.2f}\n",
    "   - Дисперсия: {sample_var:.2f}\n",
    "   - Стандартное отклонение: {sample_std:.2f}\n",
    "   - Медиана: {sample_median:.2f}\n",
    "   - Мода: {sample_mode.values[0]} (встречается {sample_mode.value_counts().iloc[0]} раз)\n",
    "   - Минимум: {sample_min}\n",
    "   - Максимум: {sample_max}\n",
    "\"\"\")"
   ]
  },
  {
   "cell_type": "markdown",
   "id": "738213b5",
   "metadata": {},
   "source": [
    "**Метод максимального правдоподобия (ММП)**\n",
    "\n",
    "**ММП** — это  метод, позволяющий найти оценки параметров распределения, при которых наблюдаемые данные становятся наиболее вероятными\n",
    "\n",
    "Если предположить, что данные имеют вид нормального распределения $ \\mathcal{N}(\\mu, \\sigma^2) $, то:\n",
    "\n",
    "1. **Оценка среднего**:\n",
    "   $$\n",
    "   \\hat{\\mu}_{\\text{ММП}} = \\frac{1}{n} \\sum_{i=1}^{n} x_i = \\bar{x}\n",
    "   $$\n",
    "\n",
    "2. **Оценка дисперсии**:\n",
    "   $$\n",
    "   \\hat{\\sigma}^2_{\\text{ММП}} = \\frac{1}{n} \\sum_{i=1}^{n} (x_i - \\bar{x})^2\n",
    "   $$\n",
    "\n",
    "\n",
    "\n",
    "**Свойства ММП-оценок**\n",
    "- **Смещённость**: Оценка дисперсии $\\hat{\\sigma}^2_{\\text{ММП}}$ **смещённая**, но **состоятельная** (при $n \\to \\infty $) смещение стремится к 0\n",
    "- **Эффективность**: Для нормального распределения ММП-оценки являются **эффективными** (имеют минимальную дисперсию среди всех несмещённых оценок).\n",
    "\n",
    "**Вывод**:  \n",
    "ММП-оценки для нормального распределения совпадают с выборочным средним и смещённой дисперсией. Они оптимальны при выполнении предположения о нормальности данных"
   ]
  },
  {
   "cell_type": "code",
   "execution_count": 99,
   "id": "c440ff3a",
   "metadata": {},
   "outputs": [
    {
     "name": "stdout",
     "output_type": "stream",
     "text": [
      "ММП-оценка среднего: 63.83\n",
      "ММП-оценка дисперсии: 408.96\n"
     ]
    }
   ],
   "source": [
    "mle_mean = sample_mean  # Совпадает с выборочным средним\n",
    "mle_var = sample_var * (n - 1) / n  # Поправка на смещённость\n",
    "print(f\"ММП-оценка среднего: {mle_mean:.2f}\")\n",
    "print(f\"ММП-оценка дисперсии: {mle_var:.2f}\")"
   ]
  },
  {
   "cell_type": "markdown",
   "id": "74fe6e13",
   "metadata": {},
   "source": [
    "**Неравенство Рао-Крамера** задаёт **минимально возможную дисперсию** для любой **несмещённой оценки** параметра.\n",
    "\n",
    "Оно позволяет проверить, является ли оценка **эффективной** (т.е. имеет ли она наименьшую дисперсию среди всех несмещённых оценок)\n",
    "\n",
    "\n",
    "Для параметра **среднего** $(\\mu)$ нормального распределения $(\\mathcal{N} (\\mu, \\sigma^2))$:\n",
    "1. **Информация Фишера** для $(\\mu)$:\n",
    "   $$\n",
    "   I(\\mu) = \\frac{n}{\\sigma^2},\n",
    "   $$\n",
    "   где:\n",
    "   - $n$ — размер выборки,\n",
    "   - $\\sigma^2$ — истинная дисперсия.\n",
    "\n",
    "2. **Нижняя граница Рао-Крамера** для дисперсии оценки $(\\hat{\\mu})$:\n",
    "   $$\n",
    "   \\text{Var}(\\hat{\\mu}) \\geq \\frac{1}{I(\\mu)} = \\frac{\\sigma^2}{n}.\n",
    "   $$\n",
    "\n",
    "\n",
    "\n",
    "**Интерпретация**\n",
    "- Если **дисперсия оценки** $(\\hat{\\mu})$ равна $(\\frac{\\sigma^2}{n})$, то оценка **эффективна**.\n",
    "- Для нормального распределения **ММП-оценка** $(\\hat{\\mu} = \\bar{x})$:\n",
    "  - Несмещённая $(E[\\bar{x}] = \\mu)$,\n",
    "  - Имеет дисперсию $(\\text{Var}(\\bar{x}) = \\frac{\\sigma^2}{n})$,\n",
    "  - **Достигает** границы Рао-Крамера → оценка эффективна.\n",
    "\n",
    "\n",
    "**Зачем это нужно?**\n",
    "1. **Проверка оптимальности оценки**: Если оценка достигает границы, она наилучшая в классе несмещённых оценок.\n",
    "2. **Сравнение методов**: Оценки с дисперсией, близкой к границе, предпочтительнее.\n"
   ]
  },
  {
   "cell_type": "code",
   "execution_count": 100,
   "id": "d47164ba",
   "metadata": {},
   "outputs": [
    {
     "name": "stdout",
     "output_type": "stream",
     "text": [
      "Нижняя граница Рао-Крамера для дисперсии среднего: 13.6319\n",
      "Достигается ли граница? True\n"
     ]
    }
   ],
   "source": [
    "rao_cramer_lower_bound = mle_var / n\n",
    "print(f\"Нижняя граница Рао-Крамера для дисперсии среднего: {rao_cramer_lower_bound:.4f}\")\n",
    "print(f\"Достигается ли граница? {rao_cramer_lower_bound == mle_var / n}\") # Если true, значит, оценка эффективна"
   ]
  },
  {
   "cell_type": "markdown",
   "id": "f866c45a",
   "metadata": {},
   "source": [
    "#### (b) Построение доверительных интервалов"
   ]
  },
  {
   "cell_type": "markdown",
   "id": "8dd818c7",
   "metadata": {},
   "source": [
    "Будем строить 95% ДИ для среднего балла за экзамен по тесту Стьюдента\n",
    "$$\n",
    "\\bar{x} \\pm t_{\\alpha/2, \\, n-1} \\cdot \\frac{s}{\\sqrt{n}},\n",
    "$$\n",
    "где:\n",
    "- $\\bar{x}$ — выборочное среднее,\n",
    "- $t_{\\alpha/2, \\, n-1}$ — критическое значение t-распределения,\n",
    "- $s$ — выборочное стандартное отклонение,\n",
    "- $n$ — размер выборки.\n",
    "\n",
    "**Условия применения t-критерия:**\n",
    "1. **Неизвестная дисперсия** генеральной совокупности.\n",
    "2. **Нормальность данных** (для малых выборок, $n < 30$).  \n",
    "   Для проверки нормальности можно использовать тест Шапиро-Уилка\n",
    "3. Для больших выборок ($n \\ge 30$) t-распределение приближается к нормальному (ЦПТ)\n"
   ]
  },
  {
   "cell_type": "code",
   "execution_count": 116,
   "id": "9a48426c",
   "metadata": {},
   "outputs": [
    {
     "name": "stdout",
     "output_type": "stream",
     "text": [
      "Нижняя граница ДИ: 56.1496301737341\n",
      "Верхняя граница ДИ:  87.66451370926953\n"
     ]
    }
   ],
   "source": [
    "alpha = 0.05\n",
    "t_stat = sts.t.ppf(1 - alpha / 2, df = n - 1)\n",
    "\n",
    "\n",
    "ci_lower_mean = sample_mean - t_stat * sample_std / np.sqrt(n)\n",
    "print('Нижняя граница ДИ:', ci_lower_mean)\n",
    "ci_upper_mean = sample_mean + t_stat * sample_mean / np.sqrt(n)\n",
    "print('Верхняя граница ДИ: ', ci_upper_mean)"
   ]
  },
  {
   "cell_type": "markdown",
   "id": "17ebf9de",
   "metadata": {},
   "source": [
    "Построение 95% доверительного интервала для дисперсии баллов за экзамен (χ²-распределение)\n",
    "\n",
    "$$\n",
    "\\left[ \\frac{(n-1)s^2}{\\chi^2_{\\alpha/2, \\, n-1}}, \\quad \\frac{(n-1)s^2}{\\chi^2_{1-\\alpha/2, \\, n-1}} \\right],\n",
    "$$\n",
    "где:\n",
    "- $ n$ — размер выборки,\n",
    "- $s^2$ — выборочная дисперсия,\n",
    "- $\\chi^2_{\\alpha/2, \\, n-1}$ и $\\chi^2_{1-\\alpha/2, \\, n-1}$ — критические значения χ²-распределения.\n"
   ]
  },
  {
   "cell_type": "code",
   "execution_count": 117,
   "id": "a139fafe",
   "metadata": {},
   "outputs": [
    {
     "name": "stdout",
     "output_type": "stream",
     "text": [
      "45.72228580417452\n",
      "16.04707169536489\n",
      "Нижняя граница ДИ: 268.33135710988114\n",
      "Верхняя граница ДИ:  764.545907995398\n"
     ]
    }
   ],
   "source": [
    "alpha = 0.05\n",
    "xi_stat_lower = sts.chi2.ppf(1 - alpha / 2, df = n - 1)\n",
    "print(xi_stat_lower)\n",
    "xi_stat_upper = sts.chi2.ppf(alpha / 2, df = n - 1)\n",
    "print(xi_stat_upper)\n",
    "\n",
    "ci_lower_var = (n - 1) * sample_var / xi_stat_lower\n",
    "print('Нижняя граница ДИ:', ci_lower_var)\n",
    "\n",
    "ci_higher_var = (n - 1) * sample_var / xi_stat_upper\n",
    "print('Верхняя граница ДИ: ', ci_higher_var)"
   ]
  },
  {
   "cell_type": "markdown",
   "id": "231cc58d",
   "metadata": {},
   "source": [
    "#### (c) Проверка статистических гипотез"
   ]
  },
  {
   "cell_type": "markdown",
   "id": "245e3bf7",
   "metadata": {},
   "source": [
    "Проверим, отличается ли средний балл у работающих и неработающих студентов на уровне значимости 0.05, используя двусторонний t-тест \n",
    "$$\n",
    "H_0: \\mu_{\\text{балл за экзамен у работающих студентов}} = \\mu_{\\text{балл за экзамен у неработающих студентов}}\n",
    "$$\n",
    "$$\n",
    "H_1: \\mu_{\\text{балл за экзамен у работающих студентов}} {=}\\mathllap{/} \\mu_{\\text{балл за экзамен у неработающих студентов}}\n",
    "$$"
   ]
  },
  {
   "cell_type": "markdown",
   "id": "cc472cb2",
   "metadata": {},
   "source": [
    "Формулы для t-теста:\n",
    "\n",
    "**Объединённая дисперсия** (если дисперсии равны):  \n",
    "   $$ s_p^2 = \\frac{(n_1 - 1)s_1^2 + (n_2 - 1)s_2^2}{n_1 + n_2 - 2} $$  \n",
    "   где:  \n",
    "   - $( n_1, n_2 )$ — размеры выборок,  \n",
    "   - $( s_1^2, s_2^2 )$ — выборочные дисперсии\n",
    "\n",
    "1. **t-статистика**:  \n",
    "   $$ t = \\frac{\\bar{x}_1 - \\bar{x}_2}{s_p \\cdot \\sqrt{\\frac{1}{n_1} + \\frac{1}{n_2}}} $$  \n",
    "\n",
    "2. **Степени свободы**:  \n",
    "   $$ df = n_1 + n_2 - 2 $$  \n",
    "\n",
    "---\n",
    "\n",
    "**Если дисперсии неравны (тест Уэлча):**\n",
    "1. **t-статистика**:  \n",
    "   $$ t = \\frac{\\bar{x}_1 - \\bar{x}_2}{\\sqrt{\\frac{s_1^2}{n_1} + \\frac{s_2^2}{n_2}}} $$  \n",
    "\n",
    "2. **Степени свободы** (формула Уэлча-Саттертуэйта):  \n",
    "   $$ df = \\frac{\\left( \\frac{s_1^2}{n_1} + \\frac{s_2^2}{n_2} \\right)^2}{\\frac{(s_1^2/n_1)^2}{n_1 - 1} + \\frac{(s_2^2/n_2)^2}{n_2 - 1}} $$  \n"
   ]
  },
  {
   "cell_type": "code",
   "execution_count": 103,
   "id": "a0fde8e2",
   "metadata": {},
   "outputs": [
    {
     "name": "stdout",
     "output_type": "stream",
     "text": [
      "t-статистика: 0.657\n",
      "p-value: 0.5168\n"
     ]
    }
   ],
   "source": [
    "working_students = sample[sample['part_time_job'] == 'Yes']['exam_score']\n",
    "not_working_students = sample[sample['part_time_job'] == 'No']['exam_score']\n",
    "\n",
    "\n",
    "t_stat, p_value = sts.ttest_ind(working_students, not_working_students, \n",
    "                                alternative='two-sided')\n",
    "\n",
    "print(f\"t-статистика: {t_stat:.3f}\")\n",
    "print(f\"p-value: {p_value:.4f}\")"
   ]
  },
  {
   "cell_type": "markdown",
   "id": "d1750efa",
   "metadata": {},
   "source": [
    "Т.к p-value > 0.05, то есть нет достаточных оснований отвергнуть нулевую гипотезу на уроане значимости 0.05\n",
    "\n",
    "То есть, **нет статистически значимых различий в средних баллах между работающими и неработающими студентами**"
   ]
  },
  {
   "cell_type": "markdown",
   "id": "875bc91d",
   "metadata": {},
   "source": [
    "### Визуализация и интерпретация"
   ]
  },
  {
   "cell_type": "code",
   "execution_count": 104,
   "id": "62885037",
   "metadata": {},
   "outputs": [
    {
     "data": {
      "image/png": "[encoded data removed]",
      "text/plain": [
       "<Figure size 1000x700 with 1 Axes>"
      ]
     },
     "metadata": {},
     "output_type": "display_data"
    }
   ],
   "source": [
    "plt.figure(figsize=(10, 7))\n",
    "plt.hist(sample['exam_score'], bins = 15, edgecolor = 'black', label='Распределение', color = '#ad03fc')\n",
    "plt.axvline(ci_lower_mean, color = 'red', label=f'95% ДИ: [{ci_lower_mean:.1f}, {ci_upper_mean:.1f}]', linewidth = 2)\n",
    "plt.axvline(ci_upper_mean, color = 'red', linewidth = 2)\n",
    "plt.axvline(sample_mean, label=f'Среднее: {sample_mean:.1f}', color = '#03fc20', linewidth = 2)\n",
    "plt.title('Гистограмма распределения баллов за экзамен с 95% ДИ для среднего')\n",
    "plt.xlabel('Баллы')\n",
    "plt.ylabel('Частота')\n",
    "plt.legend()\n",
    "plt.grid(axis='y', alpha = 0.4)\n",
    "plt.box(False)\n",
    "plt.show()"
   ]
  },
  {
   "cell_type": "code",
   "execution_count": 105,
   "id": "41e42257",
   "metadata": {},
   "outputs": [
    {
     "name": "stderr",
     "output_type": "stream",
     "text": [
      "C:\\Users\\Smart\\AppData\\Local\\Temp\\ipykernel_11516\\884248977.py:7: UserWarning:\n",
      "\n",
      "No artists with labels found to put in legend.  Note that artists whose label start with an underscore are ignored when legend() is called with no argument.\n",
      "\n"
     ]
    },
    {
     "data": {
      "image/png": "[encoded data removed]",
      "text/plain": [
       "<Figure size 1000x600 with 1 Axes>"
      ]
     },
     "metadata": {},
     "output_type": "display_data"
    }
   ],
   "source": [
    "plt.figure(figsize=(10, 6))\n",
    "sns.boxplot(sample['exam_score'], color = '#ad03fc', orient='h')\n",
    "plt.axvline(ci_lower_mean, color = 'red', linewidth = 2)\n",
    "plt.axvline(ci_upper_mean, color = 'red', linewidth = 2)\n",
    "plt.title('Гистограмма распределения баллов за экзамен с 95% ДИ для среднего')\n",
    "plt.xlabel('Баллы')\n",
    "plt.legend()\n",
    "plt.grid(axis='x', alpha=0.3)\n",
    "plt.box(False)\n",
    "plt.show()"
   ]
  },
  {
   "cell_type": "markdown",
   "id": "288e175d",
   "metadata": {},
   "source": [
    "Среднее выборочное значение лежит в 95% ДИ, значит, у нас нет достаточных доказательств отвернуть H0"
   ]
  },
  {
   "cell_type": "markdown",
   "id": "3078da4b",
   "metadata": {},
   "source": [
    "## Гипотеза 2 -- уровень успеваемости не зависит от количества часов сна"
   ]
  },
  {
   "cell_type": "markdown",
   "id": "0cf7c50b",
   "metadata": {},
   "source": [
    "#### (a) Вычисление точечных оценок"
   ]
  },
  {
   "cell_type": "code",
   "execution_count": null,
   "id": "faf6d26d",
   "metadata": {},
   "outputs": [
    {
     "name": "stdout",
     "output_type": "stream",
     "text": [
      "\n",
      "Среднее количество часов сна: 6.5 ч.\n",
      "Дисперсия: 1.5\n",
      "Стандартное отклонение: 1.2 ч.\n",
      "Медиана: 6.5 ч.\n",
      "Мода: 6.5 ч.\n",
      "Минимум: 3.2 ч.\n",
      "Максимум: 10.0 ч.\n",
      "\n"
     ]
    }
   ],
   "source": [
    "sleep_hours = df['sleep_hours']\n",
    "\n",
    "mean_sleep = sleep_hours.mean()\n",
    "var_sleep = sleep_hours.var(ddof=1)\n",
    "std_sleep = sleep_hours.std(ddof=1)\n",
    "median_sleep = sleep_hours.median()\n",
    "mode_sleep = sleep_hours.mode().values[0]\n",
    "min_sleep = sleep_hours.min()\n",
    "max_sleep = sleep_hours.max()\n",
    "\n",
    "print(f\"\"\"\n",
    "Среднее количество часов сна: {mean_sleep:.1f} ч.\n",
    "Дисперсия: {var_sleep:.1f}\n",
    "Стандартное отклонение: {std_sleep:.1f} ч.\n",
    "Медиана: {median_sleep} ч.\n",
    "Мода: {mode_sleep} ч.\n",
    "Минимум: {min_sleep} ч.\n",
    "Максимум: {max_sleep} ч.\n",
    "\"\"\")"
   ]
  },
  {
   "cell_type": "markdown",
   "id": "33e99eef",
   "metadata": {},
   "source": [
    "Предположим, что данные имеют нормальное распределение:\n",
    "ММП-оценки для нормального распределения совпадают с выборочными средним и дисперсией:"
   ]
  },
  {
   "cell_type": "code",
   "execution_count": 107,
   "id": "2fec82ec",
   "metadata": {},
   "outputs": [
    {
     "name": "stdout",
     "output_type": "stream",
     "text": [
      "ММП-оценки: μ = 6.5, σ² = 1.5\n"
     ]
    }
   ],
   "source": [
    "mle_mean_sleep = mean_sleep\n",
    "mle_var_sleep = sleep_hours.var(ddof=0)  # смещённая дисперсия (для ММП)\n",
    "print(f\"ММП-оценки: μ = {mle_mean_sleep:.1f}, σ² = {mle_var_sleep:.1f}\")"
   ]
  },
  {
   "cell_type": "markdown",
   "id": "5850f711",
   "metadata": {},
   "source": [
    "Проверка по методу Рао-Крамера"
   ]
  },
  {
   "cell_type": "code",
   "execution_count": 108,
   "id": "c1033b27",
   "metadata": {},
   "outputs": [
    {
     "name": "stdout",
     "output_type": "stream",
     "text": [
      "Нижняя граница Рао-Крамера: 0.0501\n",
      "Достигается ли граница? True\n"
     ]
    }
   ],
   "source": [
    "rao_cramer_bound = mle_var_sleep / n\n",
    "print(f\"Нижняя граница Рао-Крамера: {rao_cramer_bound:.4f}\")\n",
    "print(f\"Достигается ли граница? {rao_cramer_bound == mle_var_sleep / n}\")"
   ]
  },
  {
   "cell_type": "markdown",
   "id": "0ecdb6c8",
   "metadata": {},
   "source": [
    "#### (b) Построение доверительных интервалов"
   ]
  },
  {
   "cell_type": "markdown",
   "id": "98dfa285",
   "metadata": {},
   "source": [
    "Будем строить 95% ДИ для среднего количества часов сна по тесту Стьюдента"
   ]
  },
  {
   "cell_type": "code",
   "execution_count": null,
   "id": "48926658",
   "metadata": {},
   "outputs": [
    {
     "name": "stdout",
     "output_type": "stream",
     "text": [
      "95% ДИ для среднего: [6.0, 6.9]\n"
     ]
    }
   ],
   "source": [
    "alpha = 0.05\n",
    "t_crit = sts.t.ppf(1 - alpha/2, df=n-1)\n",
    "ci_mean_lower = mean_sleep - t_crit * (std_sleep / (n ** 0.5))\n",
    "ci_mean_upper = mean_sleep + t_crit * (std_sleep / (n ** 0.5))\n",
    "print(f\"95% ДИ для среднего: [{ci_mean_lower:.1f}, {ci_mean_upper:.1f}]\")"
   ]
  },
  {
   "cell_type": "markdown",
   "id": "228577a4",
   "metadata": {},
   "source": [
    "Будем строить 95% ДИ для дисперсии часов сна по тесту Хи-квадрат"
   ]
  },
  {
   "cell_type": "code",
   "execution_count": 110,
   "id": "c9a2c58d",
   "metadata": {},
   "outputs": [
    {
     "name": "stdout",
     "output_type": "stream",
     "text": [
      "95% ДИ для дисперсии: [1.0, 2.7]\n"
     ]
    }
   ],
   "source": [
    "chi2_lower = sts.chi2.ppf(1 - alpha/2, df=n-1)\n",
    "chi2_upper = sts.chi2.ppf(alpha/2, df=n-1)\n",
    "ci_var_lower = (n-1) * var_sleep / chi2_lower\n",
    "ci_var_upper = (n-1) * var_sleep / chi2_upper\n",
    "print(f\"95% ДИ для дисперсии: [{ci_var_lower:.1f}, {ci_var_upper:.1f}]\")"
   ]
  },
  {
   "cell_type": "code",
   "execution_count": 111,
   "id": "a90291a6",
   "metadata": {},
   "outputs": [
    {
     "data": {
      "image/png": "[encoded data removed]",
      "text/plain": [
       "<Figure size 1000x500 with 1 Axes>"
      ]
     },
     "metadata": {},
     "output_type": "display_data"
    },
    {
     "data": {
      "image/png": "[encoded data removed]",
      "text/plain": [
       "<Figure size 640x480 with 1 Axes>"
      ]
     },
     "metadata": {},
     "output_type": "display_data"
    }
   ],
   "source": [
    "# Гистограмма с ядерной оценкой плотности\n",
    "plt.figure(figsize=(10, 5))\n",
    "sns.histplot(sleep_hours, kde=True, bins=10, color='#00cc96')\n",
    "plt.axvline(mean_sleep, color='red', label=f'Среднее: {mean_sleep:.1f} ч.')\n",
    "plt.title('Распределение часов сна')\n",
    "plt.xlabel('Часы сна')\n",
    "plt.ylabel('Частота')\n",
    "plt.legend()\n",
    "plt.show()\n",
    "\n",
    "# Boxplot\n",
    "sns.boxplot(x=sleep_hours, color='#00cc96')\n",
    "plt.title('Boxplot часов сна')\n",
    "plt.show()"
   ]
  },
  {
   "cell_type": "markdown",
   "id": "b505fa76",
   "metadata": {},
   "source": [
    "#### (c) Проверка статистических гипотез"
   ]
  },
  {
   "cell_type": "code",
   "execution_count": 112,
   "id": "dc5f1f09",
   "metadata": {},
   "outputs": [
    {
     "data": {
      "image/png": "[encoded data removed]",
      "text/plain": [
       "<Figure size 1000x600 with 1 Axes>"
      ]
     },
     "metadata": {},
     "output_type": "display_data"
    }
   ],
   "source": [
    "plt.figure(figsize=(10, 6))\n",
    "sns.regplot(\n",
    "    x='sleep_hours', \n",
    "    y='exam_score', \n",
    "    data=df, \n",
    "    scatter_kws={'alpha': 0.5, 'color': '#2ecc71'},\n",
    "    line_kws={'color': '#e74c3c', 'linewidth': 2}\n",
    ")\n",
    "plt.title('Зависимость успеваемости от часов сна', fontsize=14)\n",
    "plt.xlabel('Часы сна в сутки', fontsize=12)\n",
    "plt.ylabel('Баллы за экзамен', fontsize=12)\n",
    "plt.grid(alpha=0.3)\n",
    "plt.show()"
   ]
  },
  {
   "cell_type": "markdown",
   "id": "4e228031",
   "metadata": {},
   "source": [
    "Проверим, есть ли связь между количеством часов сна и баллом за экзамен на уровне значимости 0.05, используя корреляционный анализ (Спирмен или Пирсона) \n",
    "\n",
    "$H_0$: Корреляция между часами сна и успеваемостью равна нулю ($p = 0$)\n",
    "\n",
    "$H_1$: Корреляция статистически значимо отличается от нуля ($p {=}\\mathllap{/} 0$)\n"
   ]
  },
  {
   "cell_type": "markdown",
   "id": "4a603caa",
   "metadata": {},
   "source": [
    "Проверка нормальности данных, чтобы понять используемый вид корреляции (либо Пирсона либо Спирмена), будем использовать тест на нормальность распределения Шапиро-Уилка"
   ]
  },
  {
   "cell_type": "markdown",
   "id": "ea34872b",
   "metadata": {},
   "source": [
    "**1. Тест Шапиро-Уилка на нормальность**\n",
    "\n",
    "Проверяет гипотезу о нормальности распределения данных.  \n",
    "\n",
    "**Нулевая гипотеза** $H_0$: данные распределены нормально.  \n",
    "**Статистика теста** $W$:  \n",
    "\n",
    "$$\n",
    "W = \\frac{\\left( \\sum_{i=1}^n a_i x_{(i)} \\right)^2}{\\sum_{i=1}^n (x_i - \\bar{x})^2},\n",
    "$$  \n",
    "где:  \n",
    "- $ x_{(i)}$ — упорядоченные значения выборки,  \n",
    "- $a_i$ — константы из таблиц Шапиро-Уилка,  \n",
    "- $ \\bar{x}$ — выборочное среднее  \n",
    "\n",
    "**Решение**:  \n",
    "Если $( p\\text{-value} < \\alpha )$ (например, $\\alpha = 0.05$, то $H_0 $ отвергается)\n"
   ]
  },
  {
   "cell_type": "code",
   "execution_count": 113,
   "id": "b9a4d5a7",
   "metadata": {},
   "outputs": [
    {
     "name": "stdout",
     "output_type": "stream",
     "text": [
      "p-value (нормальность часов сна): 0.0888\n",
      "p-value (нормальность баллов): 0.0000\n"
     ]
    }
   ],
   "source": [
    "_, p_sleep = shapiro(df['sleep_hours'])\n",
    "_, p_score = shapiro(df['exam_score'])\n",
    "\n",
    "print(f\"p-value (нормальность часов сна): {p_sleep:.4f}\")\n",
    "print(f\"p-value (нормальность баллов): {p_score:.4f}\")"
   ]
  },
  {
   "cell_type": "markdown",
   "id": "8e07a3d2",
   "metadata": {},
   "source": [
    "Т.к p-value у баллов меньше 0.05, то у нас есть достаточно оснований предпологать, что вид распределения баллов у нас не нормальный, поэтому для обеих переменных мы будем использовать ранговую корреляцию Спирмена"
   ]
  },
  {
   "cell_type": "markdown",
   "id": "265ad52d",
   "metadata": {},
   "source": [
    "**2. Корреляция Спирмена (ранговая корреляция)**\n",
    "\n",
    "Используется, если данные не нормальны\n",
    "\n",
    "**Формула коэффициента Спирмена**:  \n",
    "$$\n",
    "\\rho = 1 - \\frac{6 \\sum_{i=1}^n d_i^2}{n(n^2 - 1)},\n",
    "$$  \n",
    "где:  \n",
    "- $( d_i = \\text{ранг}(x_i) - \\text{ранг}(y_i) )$,  \n",
    "- $( n )$ — количество наблюдений.  \n",
    "\n",
    "**Проверка гипотезы**:  \n",
    "- $( H_0: \\rho = 0 $) (нет корреляции),  \n",
    "- $( H_1: \\rho \\neq 0 $).  \n",
    "\n",
    "**t-статистика**:  \n",
    "$$\n",
    "t = \\frac{\\rho \\sqrt{n - 2}}{\\sqrt{1 - \\rho^2}},\n",
    "$$  \n",
    "которая имеет $t$-распределение с $( df = n - 2 )$\n",
    "\n"
   ]
  },
  {
   "cell_type": "code",
   "execution_count": 114,
   "id": "84b104aa",
   "metadata": {},
   "outputs": [
    {
     "name": "stdout",
     "output_type": "stream",
     "text": [
      "Коэффициент корреляции: 0.123\n",
      "p-value: 0.0001\n"
     ]
    }
   ],
   "source": [
    "# Для Спирмена:\n",
    "r, p_value = spearmanr(df['sleep_hours'], df['exam_score'])\n",
    "\n",
    "print(f\"Коэффициент корреляции: {r:.3f}\")\n",
    "print(f\"p-value: {p_value:.4f}\")"
   ]
  },
  {
   "cell_type": "markdown",
   "id": "9e079550",
   "metadata": {},
   "source": [
    "Так как у нас p-value < 0.05, то у нас **есть достаточно оснований отвергнуть нулевую гипотезу, а это значит, что все таки взаимосвязь между часами сна и успеваемостью есть**\n",
    "\n",
    "Связь между ними, правда, слабая, если судить по коэф. корреляции (>0.1)"
   ]
  }
 ],
 "metadata": {
  "kernelspec": {
   "display_name": ".venv",
   "language": "python",
   "name": "python3"
  },
  "language_info": {
   "codemirror_mode": {
    "name": "ipython",
    "version": 3
   },
   "file_extension": ".py",
   "mimetype": "text/x-python",
   "name": "python",
   "nbconvert_exporter": "python",
   "pygments_lexer": "ipython3",
   "version": "3.11.5"
  }
 },
 "nbformat": 4,
 "nbformat_minor": 5
}
